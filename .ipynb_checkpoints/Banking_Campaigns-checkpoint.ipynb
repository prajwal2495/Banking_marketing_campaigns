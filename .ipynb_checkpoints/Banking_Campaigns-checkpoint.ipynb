{
 "cells": [
  {
   "cell_type": "code",
   "execution_count": 37,
   "metadata": {},
   "outputs": [],
   "source": [
    "#Required libraries for EDA"
   ]
  },
  {
   "cell_type": "code",
   "execution_count": 38,
   "metadata": {},
   "outputs": [],
   "source": [
    "import pandas as pd\n",
    "import numpy as np\n",
    "import seaborn as sns\n",
    "import matplotlib.pyplot as plt\n",
    "import warnings\n",
    "warnings.filterwarnings(\"ignore\")\n",
    "%matplotlib inline"
   ]
  },
  {
   "cell_type": "code",
   "execution_count": 39,
   "metadata": {},
   "outputs": [
    {
     "data": {
      "text/html": [
       "<div>\n",
       "<style scoped>\n",
       "    .dataframe tbody tr th:only-of-type {\n",
       "        vertical-align: middle;\n",
       "    }\n",
       "\n",
       "    .dataframe tbody tr th {\n",
       "        vertical-align: top;\n",
       "    }\n",
       "\n",
       "    .dataframe thead th {\n",
       "        text-align: right;\n",
       "    }\n",
       "</style>\n",
       "<table border=\"1\" class=\"dataframe\">\n",
       "  <thead>\n",
       "    <tr style=\"text-align: right;\">\n",
       "      <th></th>\n",
       "      <th>0</th>\n",
       "      <th>1</th>\n",
       "      <th>2</th>\n",
       "      <th>3</th>\n",
       "      <th>4</th>\n",
       "    </tr>\n",
       "  </thead>\n",
       "  <tbody>\n",
       "    <tr>\n",
       "      <th>age</th>\n",
       "      <td>56</td>\n",
       "      <td>57</td>\n",
       "      <td>37</td>\n",
       "      <td>40</td>\n",
       "      <td>56</td>\n",
       "    </tr>\n",
       "    <tr>\n",
       "      <th>job</th>\n",
       "      <td>housemaid</td>\n",
       "      <td>services</td>\n",
       "      <td>services</td>\n",
       "      <td>admin.</td>\n",
       "      <td>services</td>\n",
       "    </tr>\n",
       "    <tr>\n",
       "      <th>marital</th>\n",
       "      <td>married</td>\n",
       "      <td>married</td>\n",
       "      <td>married</td>\n",
       "      <td>married</td>\n",
       "      <td>married</td>\n",
       "    </tr>\n",
       "    <tr>\n",
       "      <th>education</th>\n",
       "      <td>basic.4y</td>\n",
       "      <td>high.school</td>\n",
       "      <td>high.school</td>\n",
       "      <td>basic.6y</td>\n",
       "      <td>high.school</td>\n",
       "    </tr>\n",
       "    <tr>\n",
       "      <th>default</th>\n",
       "      <td>no</td>\n",
       "      <td>unknown</td>\n",
       "      <td>no</td>\n",
       "      <td>no</td>\n",
       "      <td>no</td>\n",
       "    </tr>\n",
       "    <tr>\n",
       "      <th>housing</th>\n",
       "      <td>no</td>\n",
       "      <td>no</td>\n",
       "      <td>yes</td>\n",
       "      <td>no</td>\n",
       "      <td>no</td>\n",
       "    </tr>\n",
       "    <tr>\n",
       "      <th>loan</th>\n",
       "      <td>no</td>\n",
       "      <td>no</td>\n",
       "      <td>no</td>\n",
       "      <td>no</td>\n",
       "      <td>yes</td>\n",
       "    </tr>\n",
       "    <tr>\n",
       "      <th>contact</th>\n",
       "      <td>telephone</td>\n",
       "      <td>telephone</td>\n",
       "      <td>telephone</td>\n",
       "      <td>telephone</td>\n",
       "      <td>telephone</td>\n",
       "    </tr>\n",
       "    <tr>\n",
       "      <th>month</th>\n",
       "      <td>may</td>\n",
       "      <td>may</td>\n",
       "      <td>may</td>\n",
       "      <td>may</td>\n",
       "      <td>may</td>\n",
       "    </tr>\n",
       "    <tr>\n",
       "      <th>day_of_week</th>\n",
       "      <td>mon</td>\n",
       "      <td>mon</td>\n",
       "      <td>mon</td>\n",
       "      <td>mon</td>\n",
       "      <td>mon</td>\n",
       "    </tr>\n",
       "    <tr>\n",
       "      <th>duration</th>\n",
       "      <td>261</td>\n",
       "      <td>149</td>\n",
       "      <td>226</td>\n",
       "      <td>151</td>\n",
       "      <td>307</td>\n",
       "    </tr>\n",
       "    <tr>\n",
       "      <th>campaign</th>\n",
       "      <td>1</td>\n",
       "      <td>1</td>\n",
       "      <td>1</td>\n",
       "      <td>1</td>\n",
       "      <td>1</td>\n",
       "    </tr>\n",
       "    <tr>\n",
       "      <th>pdays</th>\n",
       "      <td>999</td>\n",
       "      <td>999</td>\n",
       "      <td>999</td>\n",
       "      <td>999</td>\n",
       "      <td>999</td>\n",
       "    </tr>\n",
       "    <tr>\n",
       "      <th>previous</th>\n",
       "      <td>0</td>\n",
       "      <td>0</td>\n",
       "      <td>0</td>\n",
       "      <td>0</td>\n",
       "      <td>0</td>\n",
       "    </tr>\n",
       "    <tr>\n",
       "      <th>poutcome</th>\n",
       "      <td>nonexistent</td>\n",
       "      <td>nonexistent</td>\n",
       "      <td>nonexistent</td>\n",
       "      <td>nonexistent</td>\n",
       "      <td>nonexistent</td>\n",
       "    </tr>\n",
       "    <tr>\n",
       "      <th>emp.var.rate</th>\n",
       "      <td>1.1</td>\n",
       "      <td>1.1</td>\n",
       "      <td>1.1</td>\n",
       "      <td>1.1</td>\n",
       "      <td>1.1</td>\n",
       "    </tr>\n",
       "    <tr>\n",
       "      <th>cons.price.idx</th>\n",
       "      <td>93.994</td>\n",
       "      <td>93.994</td>\n",
       "      <td>NaN</td>\n",
       "      <td>93.994</td>\n",
       "      <td>NaN</td>\n",
       "    </tr>\n",
       "    <tr>\n",
       "      <th>cons.conf.idx</th>\n",
       "      <td>-36.4</td>\n",
       "      <td>-36.4</td>\n",
       "      <td>-36.4</td>\n",
       "      <td>-36.4</td>\n",
       "      <td>-36.4</td>\n",
       "    </tr>\n",
       "    <tr>\n",
       "      <th>euribor3m</th>\n",
       "      <td>4.857</td>\n",
       "      <td>4.857</td>\n",
       "      <td>4.857</td>\n",
       "      <td>4.857</td>\n",
       "      <td>4.857</td>\n",
       "    </tr>\n",
       "    <tr>\n",
       "      <th>nr.employed</th>\n",
       "      <td>5191</td>\n",
       "      <td>5191</td>\n",
       "      <td>5191</td>\n",
       "      <td>5191</td>\n",
       "      <td>5191</td>\n",
       "    </tr>\n",
       "    <tr>\n",
       "      <th>y</th>\n",
       "      <td>no</td>\n",
       "      <td>no</td>\n",
       "      <td>no</td>\n",
       "      <td>no</td>\n",
       "      <td>no</td>\n",
       "    </tr>\n",
       "  </tbody>\n",
       "</table>\n",
       "</div>"
      ],
      "text/plain": [
       "                          0            1            2            3  \\\n",
       "age                      56           57           37           40   \n",
       "job               housemaid     services     services       admin.   \n",
       "marital             married      married      married      married   \n",
       "education          basic.4y  high.school  high.school     basic.6y   \n",
       "default                  no      unknown           no           no   \n",
       "housing                  no           no          yes           no   \n",
       "loan                     no           no           no           no   \n",
       "contact           telephone    telephone    telephone    telephone   \n",
       "month                   may          may          may          may   \n",
       "day_of_week             mon          mon          mon          mon   \n",
       "duration                261          149          226          151   \n",
       "campaign                  1            1            1            1   \n",
       "pdays                   999          999          999          999   \n",
       "previous                  0            0            0            0   \n",
       "poutcome        nonexistent  nonexistent  nonexistent  nonexistent   \n",
       "emp.var.rate            1.1          1.1          1.1          1.1   \n",
       "cons.price.idx       93.994       93.994          NaN       93.994   \n",
       "cons.conf.idx         -36.4        -36.4        -36.4        -36.4   \n",
       "euribor3m             4.857        4.857        4.857        4.857   \n",
       "nr.employed            5191         5191         5191         5191   \n",
       "y                        no           no           no           no   \n",
       "\n",
       "                          4  \n",
       "age                      56  \n",
       "job                services  \n",
       "marital             married  \n",
       "education       high.school  \n",
       "default                  no  \n",
       "housing                  no  \n",
       "loan                    yes  \n",
       "contact           telephone  \n",
       "month                   may  \n",
       "day_of_week             mon  \n",
       "duration                307  \n",
       "campaign                  1  \n",
       "pdays                   999  \n",
       "previous                  0  \n",
       "poutcome        nonexistent  \n",
       "emp.var.rate            1.1  \n",
       "cons.price.idx          NaN  \n",
       "cons.conf.idx         -36.4  \n",
       "euribor3m             4.857  \n",
       "nr.employed            5191  \n",
       "y                        no  "
      ]
     },
     "execution_count": 39,
     "metadata": {},
     "output_type": "execute_result"
    }
   ],
   "source": [
    "#read the dataset of \"Banking campaigns\" in data\n",
    "data = pd.read_csv(\"Casestudy Data.csv\")\n",
    "\n",
    "#printing the head and tail of the data\n",
    "data.head().T"
   ]
  },
  {
   "cell_type": "code",
   "execution_count": 40,
   "metadata": {},
   "outputs": [
    {
     "data": {
      "text/plain": [
       "age               3744\n",
       "job                  0\n",
       "marital              0\n",
       "education            0\n",
       "default              0\n",
       "housing              0\n",
       "loan                 0\n",
       "contact              0\n",
       "month                0\n",
       "day_of_week          0\n",
       "duration             0\n",
       "campaign             0\n",
       "pdays                0\n",
       "previous             0\n",
       "poutcome             0\n",
       "emp.var.rate         0\n",
       "cons.price.idx    5148\n",
       "cons.conf.idx        0\n",
       "euribor3m            0\n",
       "nr.employed          0\n",
       "y                    0\n",
       "dtype: int64"
      ]
     },
     "execution_count": 40,
     "metadata": {},
     "output_type": "execute_result"
    }
   ],
   "source": [
    "data.isnull().sum()"
   ]
  },
  {
   "cell_type": "code",
   "execution_count": 41,
   "metadata": {},
   "outputs": [
    {
     "data": {
      "text/plain": [
       "age                  0\n",
       "job                  0\n",
       "marital              0\n",
       "education            0\n",
       "default              0\n",
       "housing              0\n",
       "loan                 0\n",
       "contact              0\n",
       "month                0\n",
       "day_of_week          0\n",
       "duration             0\n",
       "campaign             0\n",
       "pdays                0\n",
       "previous             0\n",
       "poutcome             0\n",
       "emp.var.rate         0\n",
       "cons.price.idx    4672\n",
       "cons.conf.idx        0\n",
       "euribor3m            0\n",
       "nr.employed          0\n",
       "y                    0\n",
       "dtype: int64"
      ]
     },
     "execution_count": 41,
     "metadata": {},
     "output_type": "execute_result"
    }
   ],
   "source": [
    "#dropping records with age missing\n",
    "data = data[~data.age.isnull()].copy()\n",
    "data.isnull().sum()"
   ]
  },
  {
   "cell_type": "code",
   "execution_count": 42,
   "metadata": {},
   "outputs": [
    {
     "data": {
      "text/plain": [
       "age               0\n",
       "job               0\n",
       "marital           0\n",
       "education         0\n",
       "default           0\n",
       "housing           0\n",
       "loan              0\n",
       "contact           0\n",
       "month             0\n",
       "day_of_week       0\n",
       "duration          0\n",
       "campaign          0\n",
       "pdays             0\n",
       "previous          0\n",
       "poutcome          0\n",
       "emp.var.rate      0\n",
       "cons.price.idx    0\n",
       "cons.conf.idx     0\n",
       "euribor3m         0\n",
       "nr.employed       0\n",
       "y                 0\n",
       "dtype: int64"
      ]
     },
     "execution_count": 42,
     "metadata": {},
     "output_type": "execute_result"
    }
   ],
   "source": [
    "#dropping cons.price.idx records missing in the dataset\n",
    "data = data[~data['cons.price.idx'].isnull()].copy()\n",
    "\n",
    "data.isnull().sum()"
   ]
  },
  {
   "cell_type": "code",
   "execution_count": 43,
   "metadata": {},
   "outputs": [
    {
     "data": {
      "text/plain": [
       "Index(['age', 'job', 'marital', 'education', 'default', 'housing', 'loan',\n",
       "       'contact', 'month', 'day_of_week', 'duration', 'campaign', 'pdays',\n",
       "       'previous', 'poutcome', 'emp.var.rate', 'cons.price.idx',\n",
       "       'cons.conf.idx', 'euribor3m', 'nr.employed', 'y'],\n",
       "      dtype='object')"
      ]
     },
     "execution_count": 43,
     "metadata": {},
     "output_type": "execute_result"
    }
   ],
   "source": [
    "#columns in dataframe\n",
    "data.columns"
   ]
  },
  {
   "cell_type": "code",
   "execution_count": 44,
   "metadata": {},
   "outputs": [
    {
     "data": {
      "text/plain": [
       "(32772, 21)"
      ]
     },
     "execution_count": 44,
     "metadata": {},
     "output_type": "execute_result"
    }
   ],
   "source": [
    "data.shape"
   ]
  },
  {
   "cell_type": "code",
   "execution_count": 45,
   "metadata": {},
   "outputs": [
    {
     "name": "stdout",
     "output_type": "stream",
     "text": [
      "age\n",
      "<bound method Series.unique of 0        56.0\n",
      "1        57.0\n",
      "3        40.0\n",
      "5        45.0\n",
      "6        59.0\n",
      "         ... \n",
      "41181    37.0\n",
      "41183    73.0\n",
      "41184    46.0\n",
      "41186    44.0\n",
      "41187    74.0\n",
      "Name: age, Length: 32772, dtype: float64>\n",
      "----------------------------------------------------------------------------------------------------\n",
      "job\n",
      "<bound method Series.unique of 0          housemaid\n",
      "1           services\n",
      "3             admin.\n",
      "5           services\n",
      "6             admin.\n",
      "            ...     \n",
      "41181         admin.\n",
      "41183        retired\n",
      "41184    blue-collar\n",
      "41186     technician\n",
      "41187        retired\n",
      "Name: job, Length: 32772, dtype: object>\n",
      "----------------------------------------------------------------------------------------------------\n",
      "marital\n",
      "<bound method Series.unique of 0        married\n",
      "1        married\n",
      "3        married\n",
      "5        married\n",
      "6        married\n",
      "          ...   \n",
      "41181    married\n",
      "41183    married\n",
      "41184    married\n",
      "41186    married\n",
      "41187    married\n",
      "Name: marital, Length: 32772, dtype: object>\n",
      "----------------------------------------------------------------------------------------------------\n",
      "education\n",
      "<bound method Series.unique of 0                   basic.4y\n",
      "1                high.school\n",
      "3                   basic.6y\n",
      "5                   basic.9y\n",
      "6        professional.course\n",
      "                ...         \n",
      "41181      university.degree\n",
      "41183    professional.course\n",
      "41184    professional.course\n",
      "41186    professional.course\n",
      "41187    professional.course\n",
      "Name: education, Length: 32772, dtype: object>\n",
      "----------------------------------------------------------------------------------------------------\n",
      "default\n",
      "<bound method Series.unique of 0             no\n",
      "1        unknown\n",
      "3             no\n",
      "5        unknown\n",
      "6             no\n",
      "          ...   \n",
      "41181         no\n",
      "41183         no\n",
      "41184         no\n",
      "41186         no\n",
      "41187         no\n",
      "Name: default, Length: 32772, dtype: object>\n",
      "----------------------------------------------------------------------------------------------------\n",
      "housing\n",
      "<bound method Series.unique of 0         no\n",
      "1         no\n",
      "3         no\n",
      "5         no\n",
      "6         no\n",
      "        ... \n",
      "41181    yes\n",
      "41183    yes\n",
      "41184     no\n",
      "41186     no\n",
      "41187    yes\n",
      "Name: housing, Length: 32772, dtype: object>\n",
      "----------------------------------------------------------------------------------------------------\n",
      "loan\n",
      "<bound method Series.unique of 0        no\n",
      "1        no\n",
      "3        no\n",
      "5        no\n",
      "6        no\n",
      "         ..\n",
      "41181    no\n",
      "41183    no\n",
      "41184    no\n",
      "41186    no\n",
      "41187    no\n",
      "Name: loan, Length: 32772, dtype: object>\n",
      "----------------------------------------------------------------------------------------------------\n",
      "contact\n",
      "<bound method Series.unique of 0        telephone\n",
      "1        telephone\n",
      "3        telephone\n",
      "5        telephone\n",
      "6        telephone\n",
      "           ...    \n",
      "41181     cellular\n",
      "41183     cellular\n",
      "41184     cellular\n",
      "41186     cellular\n",
      "41187     cellular\n",
      "Name: contact, Length: 32772, dtype: object>\n",
      "----------------------------------------------------------------------------------------------------\n",
      "month\n",
      "<bound method Series.unique of 0        may\n",
      "1        may\n",
      "3        may\n",
      "5        may\n",
      "6        may\n",
      "        ... \n",
      "41181    nov\n",
      "41183    nov\n",
      "41184    nov\n",
      "41186    nov\n",
      "41187    nov\n",
      "Name: month, Length: 32772, dtype: object>\n",
      "----------------------------------------------------------------------------------------------------\n",
      "day_of_week\n",
      "<bound method Series.unique of 0        mon\n",
      "1        mon\n",
      "3        mon\n",
      "5        mon\n",
      "6        mon\n",
      "        ... \n",
      "41181    fri\n",
      "41183    fri\n",
      "41184    fri\n",
      "41186    fri\n",
      "41187    fri\n",
      "Name: day_of_week, Length: 32772, dtype: object>\n",
      "----------------------------------------------------------------------------------------------------\n",
      "duration\n",
      "<bound method Series.unique of 0        261\n",
      "1        149\n",
      "3        151\n",
      "5        198\n",
      "6        139\n",
      "        ... \n",
      "41181    281\n",
      "41183    334\n",
      "41184    383\n",
      "41186    442\n",
      "41187    239\n",
      "Name: duration, Length: 32772, dtype: int64>\n",
      "----------------------------------------------------------------------------------------------------\n",
      "campaign\n",
      "<bound method Series.unique of 0        1\n",
      "1        1\n",
      "3        1\n",
      "5        1\n",
      "6        1\n",
      "        ..\n",
      "41181    1\n",
      "41183    1\n",
      "41184    1\n",
      "41186    1\n",
      "41187    3\n",
      "Name: campaign, Length: 32772, dtype: int64>\n",
      "----------------------------------------------------------------------------------------------------\n",
      "pdays\n",
      "<bound method Series.unique of 0        999\n",
      "1        999\n",
      "3        999\n",
      "5        999\n",
      "6        999\n",
      "        ... \n",
      "41181    999\n",
      "41183    999\n",
      "41184    999\n",
      "41186    999\n",
      "41187    999\n",
      "Name: pdays, Length: 32772, dtype: int64>\n",
      "----------------------------------------------------------------------------------------------------\n",
      "previous\n",
      "<bound method Series.unique of 0        0\n",
      "1        0\n",
      "3        0\n",
      "5        0\n",
      "6        0\n",
      "        ..\n",
      "41181    0\n",
      "41183    0\n",
      "41184    0\n",
      "41186    0\n",
      "41187    1\n",
      "Name: previous, Length: 32772, dtype: int64>\n",
      "----------------------------------------------------------------------------------------------------\n",
      "poutcome\n",
      "<bound method Series.unique of 0        nonexistent\n",
      "1        nonexistent\n",
      "3        nonexistent\n",
      "5        nonexistent\n",
      "6        nonexistent\n",
      "            ...     \n",
      "41181    nonexistent\n",
      "41183    nonexistent\n",
      "41184    nonexistent\n",
      "41186    nonexistent\n",
      "41187        failure\n",
      "Name: poutcome, Length: 32772, dtype: object>\n",
      "----------------------------------------------------------------------------------------------------\n",
      "emp.var.rate\n",
      "<bound method Series.unique of 0        1.1\n",
      "1        1.1\n",
      "3        1.1\n",
      "5        1.1\n",
      "6        1.1\n",
      "        ... \n",
      "41181   -1.1\n",
      "41183   -1.1\n",
      "41184   -1.1\n",
      "41186   -1.1\n",
      "41187   -1.1\n",
      "Name: emp.var.rate, Length: 32772, dtype: float64>\n",
      "----------------------------------------------------------------------------------------------------\n",
      "cons.price.idx\n",
      "<bound method Series.unique of 0        93.994\n",
      "1        93.994\n",
      "3        93.994\n",
      "5        93.994\n",
      "6        93.994\n",
      "          ...  \n",
      "41181    94.767\n",
      "41183    94.767\n",
      "41184    94.767\n",
      "41186    94.767\n",
      "41187    94.767\n",
      "Name: cons.price.idx, Length: 32772, dtype: float64>\n",
      "----------------------------------------------------------------------------------------------------\n",
      "cons.conf.idx\n",
      "<bound method Series.unique of 0       -36.4\n",
      "1       -36.4\n",
      "3       -36.4\n",
      "5       -36.4\n",
      "6       -36.4\n",
      "         ... \n",
      "41181   -50.8\n",
      "41183   -50.8\n",
      "41184   -50.8\n",
      "41186   -50.8\n",
      "41187   -50.8\n",
      "Name: cons.conf.idx, Length: 32772, dtype: float64>\n",
      "----------------------------------------------------------------------------------------------------\n",
      "euribor3m\n",
      "<bound method Series.unique of 0        4.857\n",
      "1        4.857\n",
      "3        4.857\n",
      "5        4.857\n",
      "6        4.857\n",
      "         ...  \n",
      "41181    1.028\n",
      "41183    1.028\n",
      "41184    1.028\n",
      "41186    1.028\n",
      "41187    1.028\n",
      "Name: euribor3m, Length: 32772, dtype: float64>\n",
      "----------------------------------------------------------------------------------------------------\n",
      "nr.employed\n",
      "<bound method Series.unique of 0        5191.0\n",
      "1        5191.0\n",
      "3        5191.0\n",
      "5        5191.0\n",
      "6        5191.0\n",
      "          ...  \n",
      "41181    4963.6\n",
      "41183    4963.6\n",
      "41184    4963.6\n",
      "41186    4963.6\n",
      "41187    4963.6\n",
      "Name: nr.employed, Length: 32772, dtype: float64>\n",
      "----------------------------------------------------------------------------------------------------\n",
      "y\n",
      "<bound method Series.unique of 0         no\n",
      "1         no\n",
      "3         no\n",
      "5         no\n",
      "6         no\n",
      "        ... \n",
      "41181    yes\n",
      "41183    yes\n",
      "41184     no\n",
      "41186    yes\n",
      "41187     no\n",
      "Name: y, Length: 32772, dtype: object>\n",
      "----------------------------------------------------------------------------------------------------\n"
     ]
    }
   ],
   "source": [
    "#finding the amount of unique values in each column\n",
    "for cols in data.columns:\n",
    "    print(cols)\n",
    "    print(data[cols].unique)\n",
    "    print(\"--\" * 50)"
   ]
  },
  {
   "cell_type": "code",
   "execution_count": 46,
   "metadata": {},
   "outputs": [
    {
     "data": {
      "text/plain": [
       "['age',\n",
       " 'duration',\n",
       " 'campaign',\n",
       " 'pdays',\n",
       " 'previous',\n",
       " 'emp.var.rate',\n",
       " 'cons.price.idx',\n",
       " 'cons.conf.idx',\n",
       " 'euribor3m',\n",
       " 'nr.employed']"
      ]
     },
     "execution_count": 46,
     "metadata": {},
     "output_type": "execute_result"
    }
   ],
   "source": [
    "# List of numerical columns in the dataset\n",
    "nums = list(data.select_dtypes(exclude=['object']))\n",
    "nums"
   ]
  },
  {
   "cell_type": "code",
   "execution_count": 47,
   "metadata": {},
   "outputs": [
    {
     "data": {
      "text/plain": [
       "['job',\n",
       " 'marital',\n",
       " 'education',\n",
       " 'default',\n",
       " 'housing',\n",
       " 'loan',\n",
       " 'contact',\n",
       " 'month',\n",
       " 'day_of_week',\n",
       " 'poutcome',\n",
       " 'y']"
      ]
     },
     "execution_count": 47,
     "metadata": {},
     "output_type": "execute_result"
    }
   ],
   "source": [
    "# List of categorical columns in the dataset\n",
    "category_cols = list(data.select_dtypes(include=['object']))\n",
    "category_cols"
   ]
  },
  {
   "cell_type": "code",
   "execution_count": 48,
   "metadata": {},
   "outputs": [
    {
     "data": {
      "image/png": "[encoded data removed]",
      "text/plain": [
       "<Figure size 720x288 with 1 Axes>"
      ]
     },
     "metadata": {
      "needs_background": "light"
     },
     "output_type": "display_data"
    },
    {
     "data": {
      "image/png": "[encoded data removed]",
      "text/plain": [
       "<Figure size 720x288 with 1 Axes>"
      ]
     },
     "metadata": {
      "needs_background": "light"
     },
     "output_type": "display_data"
    },
    {
     "data": {
      "image/png": "[encoded data removed]",
      "text/plain": [
       "<Figure size 720x288 with 1 Axes>"
      ]
     },
     "metadata": {
      "needs_background": "light"
     },
     "output_type": "display_data"
    },
    {
     "data": {
      "image/png": "[encoded data removed]",
      "text/plain": [
       "<Figure size 720x288 with 1 Axes>"
      ]
     },
     "metadata": {
      "needs_background": "light"
     },
     "output_type": "display_data"
    },
    {
     "data": {
      "image/png": "[encoded data removed]",
      "text/plain": [
       "<Figure size 720x288 with 1 Axes>"
      ]
     },
     "metadata": {
      "needs_background": "light"
     },
     "output_type": "display_data"
    },
    {
     "data": {
      "image/png": "[encoded data removed]",
      "text/plain": [
       "<Figure size 720x288 with 1 Axes>"
      ]
     },
     "metadata": {
      "needs_background": "light"
     },
     "output_type": "display_data"
    },
    {
     "data": {
      "image/png": "[encoded data removed]",
      "text/plain": [
       "<Figure size 720x288 with 1 Axes>"
      ]
     },
     "metadata": {
      "needs_background": "light"
     },
     "output_type": "display_data"
    },
    {
     "data": {
      "image/png": "[encoded data removed]",
      "text/plain": [
       "<Figure size 720x288 with 1 Axes>"
      ]
     },
     "metadata": {
      "needs_background": "light"
     },
     "output_type": "display_data"
    },
    {
     "data": {
      "image/png": "[encoded data removed]",
      "text/plain": [
       "<Figure size 720x288 with 1 Axes>"
      ]
     },
     "metadata": {
      "needs_background": "light"
     },
     "output_type": "display_data"
    },
    {
     "data": {
      "image/png": "[encoded data removed]",
      "text/plain": [
       "<Figure size 720x288 with 1 Axes>"
      ]
     },
     "metadata": {
      "needs_background": "light"
     },
     "output_type": "display_data"
    },
    {
     "data": {
      "image/png": "[encoded data removed]",
      "text/plain": [
       "<Figure size 720x288 with 1 Axes>"
      ]
     },
     "metadata": {
      "needs_background": "light"
     },
     "output_type": "display_data"
    }
   ],
   "source": [
    "#plotting the bar grah to find out the number of occurances of values in each categorical column\n",
    "for col in category_cols:\n",
    "    plt.figure(figsize=(10,4))\n",
    "    sns.barplot(data[col].value_counts().values, data[col].value_counts().index)\n",
    "    plt.title(col)\n",
    "    plt.tight_layout()"
   ]
  },
  {
   "cell_type": "code",
   "execution_count": 50,
   "metadata": {},
   "outputs": [
    {
     "data": {
      "image/png": "[encoded data removed]",
      "text/plain": [
       "<Figure size 720x288 with 1 Axes>"
      ]
     },
     "metadata": {
      "needs_background": "light"
     },
     "output_type": "display_data"
    },
    {
     "data": {
      "image/png": "[encoded data removed]",
      "text/plain": [
       "<Figure size 720x288 with 1 Axes>"
      ]
     },
     "metadata": {
      "needs_background": "light"
     },
     "output_type": "display_data"
    },
    {
     "data": {
      "image/png": "[encoded data removed]",
      "text/plain": [
       "<Figure size 720x288 with 1 Axes>"
      ]
     },
     "metadata": {
      "needs_background": "light"
     },
     "output_type": "display_data"
    },
    {
     "data": {
      "image/png": "[encoded data removed]",
      "text/plain": [
       "<Figure size 720x288 with 1 Axes>"
      ]
     },
     "metadata": {
      "needs_background": "light"
     },
     "output_type": "display_data"
    },
    {
     "data": {
      "image/png": "[encoded data removed]",
      "text/plain": [
       "<Figure size 720x288 with 1 Axes>"
      ]
     },
     "metadata": {
      "needs_background": "light"
     },
     "output_type": "display_data"
    },
    {
     "data": {
      "image/png": "[encoded data removed]",
      "text/plain": [
       "<Figure size 720x288 with 1 Axes>"
      ]
     },
     "metadata": {
      "needs_background": "light"
     },
     "output_type": "display_data"
    },
    {
     "data": {
      "image/png": "[encoded data removed]",
      "text/plain": [
       "<Figure size 720x288 with 1 Axes>"
      ]
     },
     "metadata": {
      "needs_background": "light"
     },
     "output_type": "display_data"
    },
    {
     "data": {
      "image/png": "[encoded data removed]",
      "text/plain": [
       "<Figure size 720x288 with 1 Axes>"
      ]
     },
     "metadata": {
      "needs_background": "light"
     },
     "output_type": "display_data"
    },
    {
     "data": {
      "image/png": "[encoded data removed]",
      "text/plain": [
       "<Figure size 720x288 with 1 Axes>"
      ]
     },
     "metadata": {
      "needs_background": "light"
     },
     "output_type": "display_data"
    },
    {
     "data": {
      "image/png": "[encoded data removed]",
      "text/plain": [
       "<Figure size 720x288 with 1 Axes>"
      ]
     },
     "metadata": {
      "needs_background": "light"
     },
     "output_type": "display_data"
    },
    {
     "data": {
      "image/png": "[encoded data removed]",
      "text/plain": [
       "<Figure size 720x288 with 1 Axes>"
      ]
     },
     "metadata": {
      "needs_background": "light"
     },
     "output_type": "display_data"
    }
   ],
   "source": [
    "for col in category_cols:\n",
    "    plt.figure(figsize=(10,4))\n",
    "    #Returns counts of unique values for each outcome for each feature.\n",
    "    pos_counts = data.loc[data['y'].values == 'yes', col].value_counts() \n",
    "    neg_counts = data.loc[data['y'].values == 'no', col].value_counts()\n",
    "    \n",
    "    all_counts = list(set(list(pos_counts.index) + list(neg_counts.index)))\n",
    "    \n",
    "    #Counts of how often each outcome was recorded.\n",
    "    freq_pos = (data['y'].values == 'yes').sum()\n",
    "    freq_neg = (data['y'].values == 'no').sum()\n",
    "    \n",
    "    pos_counts = pos_counts.to_dict()\n",
    "    neg_counts = neg_counts.to_dict()\n",
    "    \n",
    "    all_index = list(all_counts)\n",
    "    all_counts = [pos_counts.get(k, 0) / freq_pos - neg_counts.get(k, 0) / freq_neg for k in all_counts]\n",
    "\n",
    "    sns.barplot(all_counts, all_index)\n",
    "    plt.title(col)\n",
    "    plt.tight_layout()"
   ]
  },
  {
   "cell_type": "code",
   "execution_count": null,
   "metadata": {},
   "outputs": [],
   "source": [
    "#lets find out missing and/or uniknown values in the columns of the dataframe\n",
    "\n",
    "data.default.replace('unknown','no',inplace=True)\n",
    "df['default'] = df.default.replace('unknown',df.default.mode([0]))\n",
    "\n",
    "df['default'] = df.default.replace('unknown',df.default.mode([0]))\n",
    "df['loan'] = df.default.replace('unknown',df.loan.mode()[0])"
   ]
  },
  {
   "cell_type": "code",
   "execution_count": null,
   "metadata": {},
   "outputs": [],
   "source": []
  },
  {
   "cell_type": "code",
   "execution_count": null,
   "metadata": {},
   "outputs": [],
   "source": []
  },
  {
   "cell_type": "code",
   "execution_count": null,
   "metadata": {},
   "outputs": [],
   "source": []
  },
  {
   "cell_type": "code",
   "execution_count": null,
   "metadata": {},
   "outputs": [],
   "source": []
  },
  {
   "cell_type": "code",
   "execution_count": null,
   "metadata": {},
   "outputs": [],
   "source": []
  },
  {
   "cell_type": "code",
   "execution_count": null,
   "metadata": {},
   "outputs": [],
   "source": []
  },
  {
   "cell_type": "code",
   "execution_count": null,
   "metadata": {},
   "outputs": [],
   "source": []
  },
  {
   "cell_type": "code",
   "execution_count": null,
   "metadata": {},
   "outputs": [],
   "source": []
  },
  {
   "cell_type": "code",
   "execution_count": null,
   "metadata": {},
   "outputs": [],
   "source": []
  },
  {
   "cell_type": "code",
   "execution_count": null,
   "metadata": {},
   "outputs": [],
   "source": []
  },
  {
   "cell_type": "code",
   "execution_count": null,
   "metadata": {},
   "outputs": [],
   "source": []
  },
  {
   "cell_type": "code",
   "execution_count": null,
   "metadata": {},
   "outputs": [],
   "source": []
  },
  {
   "cell_type": "code",
   "execution_count": null,
   "metadata": {},
   "outputs": [],
   "source": []
  },
  {
   "cell_type": "code",
   "execution_count": null,
   "metadata": {},
   "outputs": [],
   "source": []
  },
  {
   "cell_type": "code",
   "execution_count": null,
   "metadata": {},
   "outputs": [],
   "source": []
  },
  {
   "cell_type": "code",
   "execution_count": null,
   "metadata": {},
   "outputs": [],
   "source": [
    "#Handling Outliers"
   ]
  },
  {
   "cell_type": "code",
   "execution_count": null,
   "metadata": {},
   "outputs": [],
   "source": [
    "print(data.job.value_counts(normalize=True))\n",
    "\n",
    "data.job.value_counts(normalize=True).plot.barh()\n",
    "plt.show()"
   ]
  },
  {
   "cell_type": "code",
   "execution_count": null,
   "metadata": {},
   "outputs": [],
   "source": [
    "print(data.education.value_counts(normalize=True))\n",
    "\n",
    "data.education.value_counts(normalize=True).plot.pie()\n",
    "plt.show()"
   ]
  },
  {
   "cell_type": "code",
   "execution_count": null,
   "metadata": {},
   "outputs": [],
   "source": [
    "#Scatter plot"
   ]
  },
  {
   "cell_type": "code",
   "execution_count": null,
   "metadata": {},
   "outputs": [],
   "source": [
    "data.plot.scatter(x='age',y='balance')\n",
    "plt.show()"
   ]
  },
  {
   "cell_type": "code",
   "execution_count": null,
   "metadata": {},
   "outputs": [],
   "source": [
    "sns.pairplot(data=data, vars=['age','balance'])\n",
    "plt.show()"
   ]
  },
  {
   "cell_type": "code",
   "execution_count": null,
   "metadata": {},
   "outputs": [],
   "source": []
  }
 ],
 "metadata": {
  "kernelspec": {
   "display_name": "Python 3",
   "language": "python",
   "name": "python3"
  },
  "language_info": {
   "codemirror_mode": {
    "name": "ipython",
    "version": 3
   },
   "file_extension": ".py",
   "mimetype": "text/x-python",
   "name": "python",
   "nbconvert_exporter": "python",
   "pygments_lexer": "ipython3",
   "version": "3.8.5"
  }
 },
 "nbformat": 4,
 "nbformat_minor": 4
}
