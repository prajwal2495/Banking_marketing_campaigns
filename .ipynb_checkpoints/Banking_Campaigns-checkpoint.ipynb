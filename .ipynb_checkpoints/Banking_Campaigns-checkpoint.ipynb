{
 "cells": [
  {
   "cell_type": "code",
   "execution_count": 152,
   "metadata": {},
   "outputs": [],
   "source": [
    "#Required libraries for EDA"
   ]
  },
  {
   "cell_type": "code",
   "execution_count": 153,
   "metadata": {},
   "outputs": [],
   "source": [
    "import pandas as pd\n",
    "import numpy as np\n",
    "import seaborn as sns\n",
    "import matplotlib.pyplot as plt\n",
    "import warnings\n",
    "warnings.filterwarnings(\"ignore\")\n",
    "%matplotlib inline"
   ]
  },
  {
   "cell_type": "code",
   "execution_count": 154,
   "metadata": {},
   "outputs": [
    {
     "data": {
      "text/html": [
       "<div>\n",
       "<style scoped>\n",
       "    .dataframe tbody tr th:only-of-type {\n",
       "        vertical-align: middle;\n",
       "    }\n",
       "\n",
       "    .dataframe tbody tr th {\n",
       "        vertical-align: top;\n",
       "    }\n",
       "\n",
       "    .dataframe thead th {\n",
       "        text-align: right;\n",
       "    }\n",
       "</style>\n",
       "<table border=\"1\" class=\"dataframe\">\n",
       "  <thead>\n",
       "    <tr style=\"text-align: right;\">\n",
       "      <th></th>\n",
       "      <th>age</th>\n",
       "      <th>job</th>\n",
       "      <th>marital</th>\n",
       "      <th>education</th>\n",
       "      <th>default</th>\n",
       "      <th>housing</th>\n",
       "      <th>loan</th>\n",
       "      <th>contact</th>\n",
       "      <th>month</th>\n",
       "      <th>day_of_week</th>\n",
       "      <th>...</th>\n",
       "      <th>campaign</th>\n",
       "      <th>pdays</th>\n",
       "      <th>previous</th>\n",
       "      <th>poutcome</th>\n",
       "      <th>emp.var.rate</th>\n",
       "      <th>cons.price.idx</th>\n",
       "      <th>cons.conf.idx</th>\n",
       "      <th>euribor3m</th>\n",
       "      <th>nr.employed</th>\n",
       "      <th>y</th>\n",
       "    </tr>\n",
       "  </thead>\n",
       "  <tbody>\n",
       "    <tr>\n",
       "      <th>0</th>\n",
       "      <td>56.0</td>\n",
       "      <td>housemaid</td>\n",
       "      <td>married</td>\n",
       "      <td>basic.4y</td>\n",
       "      <td>no</td>\n",
       "      <td>no</td>\n",
       "      <td>no</td>\n",
       "      <td>telephone</td>\n",
       "      <td>may</td>\n",
       "      <td>mon</td>\n",
       "      <td>...</td>\n",
       "      <td>1</td>\n",
       "      <td>999</td>\n",
       "      <td>0</td>\n",
       "      <td>nonexistent</td>\n",
       "      <td>1.1</td>\n",
       "      <td>93.994</td>\n",
       "      <td>-36.4</td>\n",
       "      <td>4.857</td>\n",
       "      <td>5191.0</td>\n",
       "      <td>no</td>\n",
       "    </tr>\n",
       "    <tr>\n",
       "      <th>1</th>\n",
       "      <td>57.0</td>\n",
       "      <td>services</td>\n",
       "      <td>married</td>\n",
       "      <td>high.school</td>\n",
       "      <td>unknown</td>\n",
       "      <td>no</td>\n",
       "      <td>no</td>\n",
       "      <td>telephone</td>\n",
       "      <td>may</td>\n",
       "      <td>mon</td>\n",
       "      <td>...</td>\n",
       "      <td>1</td>\n",
       "      <td>999</td>\n",
       "      <td>0</td>\n",
       "      <td>nonexistent</td>\n",
       "      <td>1.1</td>\n",
       "      <td>93.994</td>\n",
       "      <td>-36.4</td>\n",
       "      <td>4.857</td>\n",
       "      <td>5191.0</td>\n",
       "      <td>no</td>\n",
       "    </tr>\n",
       "    <tr>\n",
       "      <th>2</th>\n",
       "      <td>37.0</td>\n",
       "      <td>services</td>\n",
       "      <td>married</td>\n",
       "      <td>high.school</td>\n",
       "      <td>no</td>\n",
       "      <td>yes</td>\n",
       "      <td>no</td>\n",
       "      <td>telephone</td>\n",
       "      <td>may</td>\n",
       "      <td>mon</td>\n",
       "      <td>...</td>\n",
       "      <td>1</td>\n",
       "      <td>999</td>\n",
       "      <td>0</td>\n",
       "      <td>nonexistent</td>\n",
       "      <td>1.1</td>\n",
       "      <td>NaN</td>\n",
       "      <td>-36.4</td>\n",
       "      <td>4.857</td>\n",
       "      <td>5191.0</td>\n",
       "      <td>no</td>\n",
       "    </tr>\n",
       "    <tr>\n",
       "      <th>3</th>\n",
       "      <td>40.0</td>\n",
       "      <td>admin.</td>\n",
       "      <td>married</td>\n",
       "      <td>basic.6y</td>\n",
       "      <td>no</td>\n",
       "      <td>no</td>\n",
       "      <td>no</td>\n",
       "      <td>telephone</td>\n",
       "      <td>may</td>\n",
       "      <td>mon</td>\n",
       "      <td>...</td>\n",
       "      <td>1</td>\n",
       "      <td>999</td>\n",
       "      <td>0</td>\n",
       "      <td>nonexistent</td>\n",
       "      <td>1.1</td>\n",
       "      <td>93.994</td>\n",
       "      <td>-36.4</td>\n",
       "      <td>4.857</td>\n",
       "      <td>5191.0</td>\n",
       "      <td>no</td>\n",
       "    </tr>\n",
       "    <tr>\n",
       "      <th>4</th>\n",
       "      <td>56.0</td>\n",
       "      <td>services</td>\n",
       "      <td>married</td>\n",
       "      <td>high.school</td>\n",
       "      <td>no</td>\n",
       "      <td>no</td>\n",
       "      <td>yes</td>\n",
       "      <td>telephone</td>\n",
       "      <td>may</td>\n",
       "      <td>mon</td>\n",
       "      <td>...</td>\n",
       "      <td>1</td>\n",
       "      <td>999</td>\n",
       "      <td>0</td>\n",
       "      <td>nonexistent</td>\n",
       "      <td>1.1</td>\n",
       "      <td>NaN</td>\n",
       "      <td>-36.4</td>\n",
       "      <td>4.857</td>\n",
       "      <td>5191.0</td>\n",
       "      <td>no</td>\n",
       "    </tr>\n",
       "  </tbody>\n",
       "</table>\n",
       "<p>5 rows × 21 columns</p>\n",
       "</div>"
      ],
      "text/plain": [
       "    age        job  marital    education  default housing loan    contact  \\\n",
       "0  56.0  housemaid  married     basic.4y       no      no   no  telephone   \n",
       "1  57.0   services  married  high.school  unknown      no   no  telephone   \n",
       "2  37.0   services  married  high.school       no     yes   no  telephone   \n",
       "3  40.0     admin.  married     basic.6y       no      no   no  telephone   \n",
       "4  56.0   services  married  high.school       no      no  yes  telephone   \n",
       "\n",
       "  month day_of_week  ...  campaign  pdays  previous     poutcome emp.var.rate  \\\n",
       "0   may         mon  ...         1    999         0  nonexistent          1.1   \n",
       "1   may         mon  ...         1    999         0  nonexistent          1.1   \n",
       "2   may         mon  ...         1    999         0  nonexistent          1.1   \n",
       "3   may         mon  ...         1    999         0  nonexistent          1.1   \n",
       "4   may         mon  ...         1    999         0  nonexistent          1.1   \n",
       "\n",
       "   cons.price.idx  cons.conf.idx  euribor3m  nr.employed   y  \n",
       "0          93.994          -36.4      4.857       5191.0  no  \n",
       "1          93.994          -36.4      4.857       5191.0  no  \n",
       "2             NaN          -36.4      4.857       5191.0  no  \n",
       "3          93.994          -36.4      4.857       5191.0  no  \n",
       "4             NaN          -36.4      4.857       5191.0  no  \n",
       "\n",
       "[5 rows x 21 columns]"
      ]
     },
     "execution_count": 154,
     "metadata": {},
     "output_type": "execute_result"
    }
   ],
   "source": [
    "#read the dataset of \"Banking campaigns\" in data\n",
    "data = pd.read_csv(\"Casestudy Data.csv\")\n",
    "\n",
    "#printing the head and tail of the data\n",
    "data.head(5)"
   ]
  },
  {
   "cell_type": "code",
   "execution_count": 155,
   "metadata": {},
   "outputs": [
    {
     "data": {
      "text/plain": [
       "age               3744\n",
       "job                  0\n",
       "marital              0\n",
       "education            0\n",
       "default              0\n",
       "housing              0\n",
       "loan                 0\n",
       "contact              0\n",
       "month                0\n",
       "day_of_week          0\n",
       "duration             0\n",
       "campaign             0\n",
       "pdays                0\n",
       "previous             0\n",
       "poutcome             0\n",
       "emp.var.rate         0\n",
       "cons.price.idx    5148\n",
       "cons.conf.idx        0\n",
       "euribor3m            0\n",
       "nr.employed          0\n",
       "y                    0\n",
       "dtype: int64"
      ]
     },
     "execution_count": 155,
     "metadata": {},
     "output_type": "execute_result"
    }
   ],
   "source": [
    "data.isnull().sum()"
   ]
  },
  {
   "cell_type": "code",
   "execution_count": 156,
   "metadata": {},
   "outputs": [
    {
     "data": {
      "text/plain": [
       "age                  0\n",
       "job                  0\n",
       "marital              0\n",
       "education            0\n",
       "default              0\n",
       "housing              0\n",
       "loan                 0\n",
       "contact              0\n",
       "month                0\n",
       "day_of_week          0\n",
       "duration             0\n",
       "campaign             0\n",
       "pdays                0\n",
       "previous             0\n",
       "poutcome             0\n",
       "emp.var.rate         0\n",
       "cons.price.idx    4672\n",
       "cons.conf.idx        0\n",
       "euribor3m            0\n",
       "nr.employed          0\n",
       "y                    0\n",
       "dtype: int64"
      ]
     },
     "execution_count": 156,
     "metadata": {},
     "output_type": "execute_result"
    }
   ],
   "source": [
    "#dropping records with age missing\n",
    "data = data[~data.age.isnull()].copy()\n",
    "data.isnull().sum()"
   ]
  },
  {
   "cell_type": "code",
   "execution_count": 157,
   "metadata": {},
   "outputs": [
    {
     "data": {
      "text/plain": [
       "age               0\n",
       "job               0\n",
       "marital           0\n",
       "education         0\n",
       "default           0\n",
       "housing           0\n",
       "loan              0\n",
       "contact           0\n",
       "month             0\n",
       "day_of_week       0\n",
       "duration          0\n",
       "campaign          0\n",
       "pdays             0\n",
       "previous          0\n",
       "poutcome          0\n",
       "emp.var.rate      0\n",
       "cons.price.idx    0\n",
       "cons.conf.idx     0\n",
       "euribor3m         0\n",
       "nr.employed       0\n",
       "y                 0\n",
       "dtype: int64"
      ]
     },
     "execution_count": 157,
     "metadata": {},
     "output_type": "execute_result"
    }
   ],
   "source": [
    "#dropping cons.price.idx records missing in the dataset\n",
    "data = data[~data['cons.price.idx'].isnull()].copy()\n",
    "\n",
    "data.isnull().sum()"
   ]
  },
  {
   "cell_type": "code",
   "execution_count": 158,
   "metadata": {},
   "outputs": [
    {
     "data": {
      "text/plain": [
       "Index(['age', 'job', 'marital', 'education', 'default', 'housing', 'loan',\n",
       "       'contact', 'month', 'day_of_week', 'duration', 'campaign', 'pdays',\n",
       "       'previous', 'poutcome', 'emp.var.rate', 'cons.price.idx',\n",
       "       'cons.conf.idx', 'euribor3m', 'nr.employed', 'y'],\n",
       "      dtype='object')"
      ]
     },
     "execution_count": 158,
     "metadata": {},
     "output_type": "execute_result"
    }
   ],
   "source": [
    "#columns in dataframe\n",
    "data.columns"
   ]
  },
  {
   "cell_type": "code",
   "execution_count": 159,
   "metadata": {},
   "outputs": [
    {
     "data": {
      "text/plain": [
       "(32772, 21)"
      ]
     },
     "execution_count": 159,
     "metadata": {},
     "output_type": "execute_result"
    }
   ],
   "source": [
    "data.shape"
   ]
  },
  {
   "cell_type": "code",
   "execution_count": 160,
   "metadata": {},
   "outputs": [
    {
     "name": "stdout",
     "output_type": "stream",
     "text": [
      "age\n",
      "<bound method Series.unique of 0        56.0\n",
      "1        57.0\n",
      "3        40.0\n",
      "5        45.0\n",
      "6        59.0\n",
      "         ... \n",
      "41181    37.0\n",
      "41183    73.0\n",
      "41184    46.0\n",
      "41186    44.0\n",
      "41187    74.0\n",
      "Name: age, Length: 32772, dtype: float64>\n",
      "----------------------------------------------------------------------------------------------------\n",
      "job\n",
      "<bound method Series.unique of 0          housemaid\n",
      "1           services\n",
      "3             admin.\n",
      "5           services\n",
      "6             admin.\n",
      "            ...     \n",
      "41181         admin.\n",
      "41183        retired\n",
      "41184    blue-collar\n",
      "41186     technician\n",
      "41187        retired\n",
      "Name: job, Length: 32772, dtype: object>\n",
      "----------------------------------------------------------------------------------------------------\n",
      "marital\n",
      "<bound method Series.unique of 0        married\n",
      "1        married\n",
      "3        married\n",
      "5        married\n",
      "6        married\n",
      "          ...   \n",
      "41181    married\n",
      "41183    married\n",
      "41184    married\n",
      "41186    married\n",
      "41187    married\n",
      "Name: marital, Length: 32772, dtype: object>\n",
      "----------------------------------------------------------------------------------------------------\n",
      "education\n",
      "<bound method Series.unique of 0                   basic.4y\n",
      "1                high.school\n",
      "3                   basic.6y\n",
      "5                   basic.9y\n",
      "6        professional.course\n",
      "                ...         \n",
      "41181      university.degree\n",
      "41183    professional.course\n",
      "41184    professional.course\n",
      "41186    professional.course\n",
      "41187    professional.course\n",
      "Name: education, Length: 32772, dtype: object>\n",
      "----------------------------------------------------------------------------------------------------\n",
      "default\n",
      "<bound method Series.unique of 0             no\n",
      "1        unknown\n",
      "3             no\n",
      "5        unknown\n",
      "6             no\n",
      "          ...   \n",
      "41181         no\n",
      "41183         no\n",
      "41184         no\n",
      "41186         no\n",
      "41187         no\n",
      "Name: default, Length: 32772, dtype: object>\n",
      "----------------------------------------------------------------------------------------------------\n",
      "housing\n",
      "<bound method Series.unique of 0         no\n",
      "1         no\n",
      "3         no\n",
      "5         no\n",
      "6         no\n",
      "        ... \n",
      "41181    yes\n",
      "41183    yes\n",
      "41184     no\n",
      "41186     no\n",
      "41187    yes\n",
      "Name: housing, Length: 32772, dtype: object>\n",
      "----------------------------------------------------------------------------------------------------\n",
      "loan\n",
      "<bound method Series.unique of 0        no\n",
      "1        no\n",
      "3        no\n",
      "5        no\n",
      "6        no\n",
      "         ..\n",
      "41181    no\n",
      "41183    no\n",
      "41184    no\n",
      "41186    no\n",
      "41187    no\n",
      "Name: loan, Length: 32772, dtype: object>\n",
      "----------------------------------------------------------------------------------------------------\n",
      "contact\n",
      "<bound method Series.unique of 0        telephone\n",
      "1        telephone\n",
      "3        telephone\n",
      "5        telephone\n",
      "6        telephone\n",
      "           ...    \n",
      "41181     cellular\n",
      "41183     cellular\n",
      "41184     cellular\n",
      "41186     cellular\n",
      "41187     cellular\n",
      "Name: contact, Length: 32772, dtype: object>\n",
      "----------------------------------------------------------------------------------------------------\n",
      "month\n",
      "<bound method Series.unique of 0        may\n",
      "1        may\n",
      "3        may\n",
      "5        may\n",
      "6        may\n",
      "        ... \n",
      "41181    nov\n",
      "41183    nov\n",
      "41184    nov\n",
      "41186    nov\n",
      "41187    nov\n",
      "Name: month, Length: 32772, dtype: object>\n",
      "----------------------------------------------------------------------------------------------------\n",
      "day_of_week\n",
      "<bound method Series.unique of 0        mon\n",
      "1        mon\n",
      "3        mon\n",
      "5        mon\n",
      "6        mon\n",
      "        ... \n",
      "41181    fri\n",
      "41183    fri\n",
      "41184    fri\n",
      "41186    fri\n",
      "41187    fri\n",
      "Name: day_of_week, Length: 32772, dtype: object>\n",
      "----------------------------------------------------------------------------------------------------\n",
      "duration\n",
      "<bound method Series.unique of 0        261\n",
      "1        149\n",
      "3        151\n",
      "5        198\n",
      "6        139\n",
      "        ... \n",
      "41181    281\n",
      "41183    334\n",
      "41184    383\n",
      "41186    442\n",
      "41187    239\n",
      "Name: duration, Length: 32772, dtype: int64>\n",
      "----------------------------------------------------------------------------------------------------\n",
      "campaign\n",
      "<bound method Series.unique of 0        1\n",
      "1        1\n",
      "3        1\n",
      "5        1\n",
      "6        1\n",
      "        ..\n",
      "41181    1\n",
      "41183    1\n",
      "41184    1\n",
      "41186    1\n",
      "41187    3\n",
      "Name: campaign, Length: 32772, dtype: int64>\n",
      "----------------------------------------------------------------------------------------------------\n",
      "pdays\n",
      "<bound method Series.unique of 0        999\n",
      "1        999\n",
      "3        999\n",
      "5        999\n",
      "6        999\n",
      "        ... \n",
      "41181    999\n",
      "41183    999\n",
      "41184    999\n",
      "41186    999\n",
      "41187    999\n",
      "Name: pdays, Length: 32772, dtype: int64>\n",
      "----------------------------------------------------------------------------------------------------\n",
      "previous\n",
      "<bound method Series.unique of 0        0\n",
      "1        0\n",
      "3        0\n",
      "5        0\n",
      "6        0\n",
      "        ..\n",
      "41181    0\n",
      "41183    0\n",
      "41184    0\n",
      "41186    0\n",
      "41187    1\n",
      "Name: previous, Length: 32772, dtype: int64>\n",
      "----------------------------------------------------------------------------------------------------\n",
      "poutcome\n",
      "<bound method Series.unique of 0        nonexistent\n",
      "1        nonexistent\n",
      "3        nonexistent\n",
      "5        nonexistent\n",
      "6        nonexistent\n",
      "            ...     \n",
      "41181    nonexistent\n",
      "41183    nonexistent\n",
      "41184    nonexistent\n",
      "41186    nonexistent\n",
      "41187        failure\n",
      "Name: poutcome, Length: 32772, dtype: object>\n",
      "----------------------------------------------------------------------------------------------------\n",
      "emp.var.rate\n",
      "<bound method Series.unique of 0        1.1\n",
      "1        1.1\n",
      "3        1.1\n",
      "5        1.1\n",
      "6        1.1\n",
      "        ... \n",
      "41181   -1.1\n",
      "41183   -1.1\n",
      "41184   -1.1\n",
      "41186   -1.1\n",
      "41187   -1.1\n",
      "Name: emp.var.rate, Length: 32772, dtype: float64>\n",
      "----------------------------------------------------------------------------------------------------\n",
      "cons.price.idx\n",
      "<bound method Series.unique of 0        93.994\n",
      "1        93.994\n",
      "3        93.994\n",
      "5        93.994\n",
      "6        93.994\n",
      "          ...  \n",
      "41181    94.767\n",
      "41183    94.767\n",
      "41184    94.767\n",
      "41186    94.767\n",
      "41187    94.767\n",
      "Name: cons.price.idx, Length: 32772, dtype: float64>\n",
      "----------------------------------------------------------------------------------------------------\n",
      "cons.conf.idx\n",
      "<bound method Series.unique of 0       -36.4\n",
      "1       -36.4\n",
      "3       -36.4\n",
      "5       -36.4\n",
      "6       -36.4\n",
      "         ... \n",
      "41181   -50.8\n",
      "41183   -50.8\n",
      "41184   -50.8\n",
      "41186   -50.8\n",
      "41187   -50.8\n",
      "Name: cons.conf.idx, Length: 32772, dtype: float64>\n",
      "----------------------------------------------------------------------------------------------------\n",
      "euribor3m\n",
      "<bound method Series.unique of 0        4.857\n",
      "1        4.857\n",
      "3        4.857\n",
      "5        4.857\n",
      "6        4.857\n",
      "         ...  \n",
      "41181    1.028\n",
      "41183    1.028\n",
      "41184    1.028\n",
      "41186    1.028\n",
      "41187    1.028\n",
      "Name: euribor3m, Length: 32772, dtype: float64>\n",
      "----------------------------------------------------------------------------------------------------\n",
      "nr.employed\n",
      "<bound method Series.unique of 0        5191.0\n",
      "1        5191.0\n",
      "3        5191.0\n",
      "5        5191.0\n",
      "6        5191.0\n",
      "          ...  \n",
      "41181    4963.6\n",
      "41183    4963.6\n",
      "41184    4963.6\n",
      "41186    4963.6\n",
      "41187    4963.6\n",
      "Name: nr.employed, Length: 32772, dtype: float64>\n",
      "----------------------------------------------------------------------------------------------------\n",
      "y\n",
      "<bound method Series.unique of 0         no\n",
      "1         no\n",
      "3         no\n",
      "5         no\n",
      "6         no\n",
      "        ... \n",
      "41181    yes\n",
      "41183    yes\n",
      "41184     no\n",
      "41186    yes\n",
      "41187     no\n",
      "Name: y, Length: 32772, dtype: object>\n",
      "----------------------------------------------------------------------------------------------------\n"
     ]
    }
   ],
   "source": [
    "#finding the amount of unique values in each column\n",
    "for cols in data.columns:\n",
    "    print(cols)\n",
    "    print(data[cols].unique)\n",
    "    print(\"--\" * 50)"
   ]
  },
  {
   "cell_type": "code",
   "execution_count": 161,
   "metadata": {},
   "outputs": [
    {
     "data": {
      "text/plain": [
       "['age',\n",
       " 'duration',\n",
       " 'campaign',\n",
       " 'pdays',\n",
       " 'previous',\n",
       " 'emp.var.rate',\n",
       " 'cons.price.idx',\n",
       " 'cons.conf.idx',\n",
       " 'euribor3m',\n",
       " 'nr.employed']"
      ]
     },
     "execution_count": 161,
     "metadata": {},
     "output_type": "execute_result"
    }
   ],
   "source": [
    "# List of numerical columns in the dataset\n",
    "nums = list(data.select_dtypes(exclude=['object']))\n",
    "nums"
   ]
  },
  {
   "cell_type": "code",
   "execution_count": 162,
   "metadata": {},
   "outputs": [
    {
     "data": {
      "text/plain": [
       "['job',\n",
       " 'marital',\n",
       " 'education',\n",
       " 'default',\n",
       " 'housing',\n",
       " 'loan',\n",
       " 'contact',\n",
       " 'month',\n",
       " 'day_of_week',\n",
       " 'poutcome',\n",
       " 'y']"
      ]
     },
     "execution_count": 162,
     "metadata": {},
     "output_type": "execute_result"
    }
   ],
   "source": [
    "# List of categorical columns in the dataset\n",
    "category_cols = list(data.select_dtypes(include=['object']))\n",
    "category_cols"
   ]
  },
  {
   "cell_type": "code",
   "execution_count": 163,
   "metadata": {},
   "outputs": [
    {
     "data": {
      "image/png": "[encoded data removed]",
      "text/plain": [
       "<Figure size 720x288 with 1 Axes>"
      ]
     },
     "metadata": {
      "needs_background": "light"
     },
     "output_type": "display_data"
    },
    {
     "data": {
      "image/png": "[encoded data removed]",
      "text/plain": [
       "<Figure size 720x288 with 1 Axes>"
      ]
     },
     "metadata": {
      "needs_background": "light"
     },
     "output_type": "display_data"
    },
    {
     "data": {
      "image/png": "[encoded data removed]",
      "text/plain": [
       "<Figure size 720x288 with 1 Axes>"
      ]
     },
     "metadata": {
      "needs_background": "light"
     },
     "output_type": "display_data"
    },
    {
     "data": {
      "image/png": "[encoded data removed]",
      "text/plain": [
       "<Figure size 720x288 with 1 Axes>"
      ]
     },
     "metadata": {
      "needs_background": "light"
     },
     "output_type": "display_data"
    },
    {
     "data": {
      "image/png": "[encoded data removed]",
      "text/plain": [
       "<Figure size 720x288 with 1 Axes>"
      ]
     },
     "metadata": {
      "needs_background": "light"
     },
     "output_type": "display_data"
    },
    {
     "data": {
      "image/png": "[encoded data removed]",
      "text/plain": [
       "<Figure size 720x288 with 1 Axes>"
      ]
     },
     "metadata": {
      "needs_background": "light"
     },
     "output_type": "display_data"
    },
    {
     "data": {
      "image/png": "[encoded data removed]",
      "text/plain": [
       "<Figure size 720x288 with 1 Axes>"
      ]
     },
     "metadata": {
      "needs_background": "light"
     },
     "output_type": "display_data"
    },
    {
     "data": {
      "image/png": "[encoded data removed]",
      "text/plain": [
       "<Figure size 720x288 with 1 Axes>"
      ]
     },
     "metadata": {
      "needs_background": "light"
     },
     "output_type": "display_data"
    },
    {
     "data": {
      "image/png": "[encoded data removed]",
      "text/plain": [
       "<Figure size 720x288 with 1 Axes>"
      ]
     },
     "metadata": {
      "needs_background": "light"
     },
     "output_type": "display_data"
    },
    {
     "data": {
      "image/png": "[encoded data removed]",
      "text/plain": [
       "<Figure size 720x288 with 1 Axes>"
      ]
     },
     "metadata": {
      "needs_background": "light"
     },
     "output_type": "display_data"
    },
    {
     "data": {
      "image/png": "[encoded data removed]",
      "text/plain": [
       "<Figure size 720x288 with 1 Axes>"
      ]
     },
     "metadata": {
      "needs_background": "light"
     },
     "output_type": "display_data"
    }
   ],
   "source": [
    "#plotting the bar grah to find out the number of occurances of values in each categorical column\n",
    "for col in category_cols:\n",
    "    plt.figure(figsize=(10,4))\n",
    "    sns.barplot(data[col].value_counts().values, data[col].value_counts().index)\n",
    "    plt.title(col)\n",
    "    plt.tight_layout()"
   ]
  },
  {
   "cell_type": "code",
   "execution_count": 164,
   "metadata": {},
   "outputs": [
    {
     "data": {
      "image/png": "[encoded data removed]",
      "text/plain": [
       "<Figure size 720x288 with 1 Axes>"
      ]
     },
     "metadata": {
      "needs_background": "light"
     },
     "output_type": "display_data"
    },
    {
     "data": {
      "image/png": "[encoded data removed]",
      "text/plain": [
       "<Figure size 720x288 with 1 Axes>"
      ]
     },
     "metadata": {
      "needs_background": "light"
     },
     "output_type": "display_data"
    },
    {
     "data": {
      "image/png": "[encoded data removed]",
      "text/plain": [
       "<Figure size 720x288 with 1 Axes>"
      ]
     },
     "metadata": {
      "needs_background": "light"
     },
     "output_type": "display_data"
    },
    {
     "data": {
      "image/png": "[encoded data removed]",
      "text/plain": [
       "<Figure size 720x288 with 1 Axes>"
      ]
     },
     "metadata": {
      "needs_background": "light"
     },
     "output_type": "display_data"
    },
    {
     "data": {
      "image/png": "[encoded data removed]",
      "text/plain": [
       "<Figure size 720x288 with 1 Axes>"
      ]
     },
     "metadata": {
      "needs_background": "light"
     },
     "output_type": "display_data"
    },
    {
     "data": {
      "image/png": "[encoded data removed]",
      "text/plain": [
       "<Figure size 720x288 with 1 Axes>"
      ]
     },
     "metadata": {
      "needs_background": "light"
     },
     "output_type": "display_data"
    },
    {
     "data": {
      "image/png": "[encoded data removed]",
      "text/plain": [
       "<Figure size 720x288 with 1 Axes>"
      ]
     },
     "metadata": {
      "needs_background": "light"
     },
     "output_type": "display_data"
    },
    {
     "data": {
      "image/png": "[encoded data removed]",
      "text/plain": [
       "<Figure size 720x288 with 1 Axes>"
      ]
     },
     "metadata": {
      "needs_background": "light"
     },
     "output_type": "display_data"
    },
    {
     "data": {
      "image/png": "[encoded data removed]",
      "text/plain": [
       "<Figure size 720x288 with 1 Axes>"
      ]
     },
     "metadata": {
      "needs_background": "light"
     },
     "output_type": "display_data"
    },
    {
     "data": {
      "image/png": "[encoded data removed]",
      "text/plain": [
       "<Figure size 720x288 with 1 Axes>"
      ]
     },
     "metadata": {
      "needs_background": "light"
     },
     "output_type": "display_data"
    },
    {
     "data": {
      "image/png": "[encoded data removed]",
      "text/plain": [
       "<Figure size 720x288 with 1 Axes>"
      ]
     },
     "metadata": {
      "needs_background": "light"
     },
     "output_type": "display_data"
    }
   ],
   "source": [
    "for col in category_cols:\n",
    "    plt.figure(figsize=(10,4))\n",
    "    #Returns counts of unique values for each outcome for each feature.\n",
    "    pos_counts = data.loc[data['y'].values == 'yes', col].value_counts() \n",
    "    neg_counts = data.loc[data['y'].values == 'no', col].value_counts()\n",
    "    \n",
    "    all_counts = list(set(list(pos_counts.index) + list(neg_counts.index)))\n",
    "    \n",
    "    #Counts of how often each outcome was recorded.\n",
    "    freq_pos = (data['y'].values == 'yes').sum()\n",
    "    freq_neg = (data['y'].values == 'no').sum()\n",
    "    \n",
    "    pos_counts = pos_counts.to_dict()\n",
    "    neg_counts = neg_counts.to_dict()\n",
    "    \n",
    "    all_index = list(all_counts)\n",
    "    all_counts = [pos_counts.get(k, 0) / freq_pos - neg_counts.get(k, 0) / freq_neg for k in all_counts]\n",
    "\n",
    "    sns.barplot(all_counts, all_index)\n",
    "    plt.title(col)\n",
    "    plt.tight_layout()"
   ]
  },
  {
   "cell_type": "code",
   "execution_count": 165,
   "metadata": {},
   "outputs": [
    {
     "data": {
      "text/plain": [
       "Index(['age', 'job', 'marital', 'education', 'default', 'housing', 'loan',\n",
       "       'contact', 'month', 'day_of_week', 'duration', 'campaign', 'pdays',\n",
       "       'previous', 'poutcome', 'emp.var.rate', 'cons.price.idx',\n",
       "       'cons.conf.idx', 'euribor3m', 'nr.employed', 'y'],\n",
       "      dtype='object')"
      ]
     },
     "execution_count": 165,
     "metadata": {},
     "output_type": "execute_result"
    }
   ],
   "source": [
    "#let us plot some pair plots and analyse the data\n",
    "data.columns"
   ]
  },
  {
   "cell_type": "code",
   "execution_count": 166,
   "metadata": {},
   "outputs": [
    {
     "data": {
      "image/png": "[encoded data removed]",
      "text/plain": [
       "<Figure size 432x288 with 1 Axes>"
      ]
     },
     "metadata": {
      "needs_background": "light"
     },
     "output_type": "display_data"
    }
   ],
   "source": [
    "plt.scatter(data.age,data.education)\n",
    "plt.show()"
   ]
  },
  {
   "cell_type": "code",
   "execution_count": null,
   "metadata": {},
   "outputs": [],
   "source": []
  },
  {
   "cell_type": "code",
   "execution_count": null,
   "metadata": {},
   "outputs": [],
   "source": []
  },
  {
   "cell_type": "code",
   "execution_count": 167,
   "metadata": {},
   "outputs": [],
   "source": [
    "# let us analyse the yes count of on loan column by diving the age into 5 parts with a difference of 10\n",
    "a1=data[(data['age']>=18) & (data['age']<=28)]\n",
    "a2=data[(data['age']>=29) & (data['age']<=39)]\n",
    "a3=data[(data['age']>=40) & (data['age']<=50)]\n",
    "a4=data[(data['age']>=51) & (data['age']<=60)]\n",
    "a5=data[(data['age']>=61)]"
   ]
  },
  {
   "cell_type": "code",
   "execution_count": 168,
   "metadata": {},
   "outputs": [],
   "source": [
    "total=[]\n",
    "list1=[a1,a2,a3,a4,a5]\n",
    "for i in list1:\n",
    "  total.append(i.shape[0])\n",
    "yes_count=[]\n",
    "for i in list1:\n",
    "  yes_count.append(i[i['y']=='yes'].count()['y'])"
   ]
  },
  {
   "cell_type": "code",
   "execution_count": 169,
   "metadata": {},
   "outputs": [
    {
     "data": {
      "text/html": [
       "<div>\n",
       "<style scoped>\n",
       "    .dataframe tbody tr th:only-of-type {\n",
       "        vertical-align: middle;\n",
       "    }\n",
       "\n",
       "    .dataframe tbody tr th {\n",
       "        vertical-align: top;\n",
       "    }\n",
       "\n",
       "    .dataframe thead th {\n",
       "        text-align: right;\n",
       "    }\n",
       "</style>\n",
       "<table border=\"1\" class=\"dataframe\">\n",
       "  <thead>\n",
       "    <tr style=\"text-align: right;\">\n",
       "      <th></th>\n",
       "      <th>Age Groups</th>\n",
       "      <th>Total</th>\n",
       "      <th>Yes Count</th>\n",
       "      <th>Percetage</th>\n",
       "    </tr>\n",
       "  </thead>\n",
       "  <tbody>\n",
       "    <tr>\n",
       "      <th>4</th>\n",
       "      <td>61+</td>\n",
       "      <td>720</td>\n",
       "      <td>330</td>\n",
       "      <td>45.833333</td>\n",
       "    </tr>\n",
       "    <tr>\n",
       "      <th>0</th>\n",
       "      <td>18-28</td>\n",
       "      <td>3344</td>\n",
       "      <td>571</td>\n",
       "      <td>17.075359</td>\n",
       "    </tr>\n",
       "    <tr>\n",
       "      <th>3</th>\n",
       "      <td>51-60</td>\n",
       "      <td>5011</td>\n",
       "      <td>546</td>\n",
       "      <td>10.896029</td>\n",
       "    </tr>\n",
       "    <tr>\n",
       "      <th>1</th>\n",
       "      <td>29-39</td>\n",
       "      <td>14653</td>\n",
       "      <td>1514</td>\n",
       "      <td>10.332355</td>\n",
       "    </tr>\n",
       "    <tr>\n",
       "      <th>2</th>\n",
       "      <td>40-50</td>\n",
       "      <td>9039</td>\n",
       "      <td>719</td>\n",
       "      <td>7.954420</td>\n",
       "    </tr>\n",
       "  </tbody>\n",
       "</table>\n",
       "</div>"
      ],
      "text/plain": [
       "  Age Groups  Total  Yes Count  Percetage\n",
       "4        61+    720        330  45.833333\n",
       "0      18-28   3344        571  17.075359\n",
       "3      51-60   5011        546  10.896029\n",
       "1      29-39  14653       1514  10.332355\n",
       "2      40-50   9039        719   7.954420"
      ]
     },
     "execution_count": 169,
     "metadata": {},
     "output_type": "execute_result"
    }
   ],
   "source": [
    "age_final=pd.DataFrame()\n",
    "age_final['Age Groups']=['18-28','29-39','40-50','51-60','61+']\n",
    "age_final['Total']=total\n",
    "age_final['Yes Count']=yes_count\n",
    "age_final['Percetage']=(age_final['Yes Count']/age_final['Total'])*100\n",
    "age_final.sort_values(by='Percetage',ascending=False)"
   ]
  },
  {
   "cell_type": "code",
   "execution_count": null,
   "metadata": {},
   "outputs": [],
   "source": [
    "plt.figure(figsize=(20,20))\n",
    "plt.subplot(3,2,1)\n",
    "sns.swarmplot(a1['age'],a1['campaign'],hue=a1['y'])\n",
    "plt.subplot(3,2,2)\n",
    "sns.swarmplot(a2['age'],a2['campaign'],hue=a2['y'])\n",
    "plt.subplot(3,2,3)\n",
    "sns.swarmplot(a3['age'],a3['campaign'],hue=a3['y'])\n",
    "plt.subplot(3,2,4)\n",
    "sns.swarmplot(a4['age'],a4['campaign'],hue=a4['y'])\n",
    "plt.subplot(3,2,5)\n",
    "sns.swarmplot(a5['age'],a5['campaign'],hue=a5['y'])"
   ]
  },
  {
   "cell_type": "code",
   "execution_count": 99,
   "metadata": {},
   "outputs": [],
   "source": [
    "#Let us analyse on the job type column now"
   ]
  },
  {
   "cell_type": "code",
   "execution_count": 100,
   "metadata": {},
   "outputs": [
    {
     "data": {
      "text/plain": [
       "Index(['admin.', 'blue-collar', 'technician', 'services', 'management',\n",
       "       'retired', 'entrepreneur', 'self-employed', 'housemaid', 'unemployed',\n",
       "       'student', 'unknown'],\n",
       "      dtype='object')"
      ]
     },
     "execution_count": 100,
     "metadata": {},
     "output_type": "execute_result"
    }
   ],
   "source": [
    "data['job'].value_counts().index"
   ]
  },
  {
   "cell_type": "code",
   "execution_count": 101,
   "metadata": {},
   "outputs": [
    {
     "data": {
      "text/html": [
       "<div>\n",
       "<style scoped>\n",
       "    .dataframe tbody tr th:only-of-type {\n",
       "        vertical-align: middle;\n",
       "    }\n",
       "\n",
       "    .dataframe tbody tr th {\n",
       "        vertical-align: top;\n",
       "    }\n",
       "\n",
       "    .dataframe thead th {\n",
       "        text-align: right;\n",
       "    }\n",
       "</style>\n",
       "<table border=\"1\" class=\"dataframe\">\n",
       "  <thead>\n",
       "    <tr style=\"text-align: right;\">\n",
       "      <th></th>\n",
       "      <th>Job Title</th>\n",
       "      <th>Total</th>\n",
       "      <th>Yes</th>\n",
       "      <th>No</th>\n",
       "    </tr>\n",
       "  </thead>\n",
       "  <tbody>\n",
       "    <tr>\n",
       "      <th>0</th>\n",
       "      <td>admin.</td>\n",
       "      <td>8215</td>\n",
       "      <td>1075</td>\n",
       "      <td>7140</td>\n",
       "    </tr>\n",
       "    <tr>\n",
       "      <th>1</th>\n",
       "      <td>blue-collar</td>\n",
       "      <td>7408</td>\n",
       "      <td>500</td>\n",
       "      <td>6908</td>\n",
       "    </tr>\n",
       "    <tr>\n",
       "      <th>2</th>\n",
       "      <td>technician</td>\n",
       "      <td>5374</td>\n",
       "      <td>578</td>\n",
       "      <td>4796</td>\n",
       "    </tr>\n",
       "    <tr>\n",
       "      <th>3</th>\n",
       "      <td>services</td>\n",
       "      <td>3121</td>\n",
       "      <td>253</td>\n",
       "      <td>2868</td>\n",
       "    </tr>\n",
       "    <tr>\n",
       "      <th>4</th>\n",
       "      <td>management</td>\n",
       "      <td>2361</td>\n",
       "      <td>262</td>\n",
       "      <td>2099</td>\n",
       "    </tr>\n",
       "    <tr>\n",
       "      <th>5</th>\n",
       "      <td>retired</td>\n",
       "      <td>1356</td>\n",
       "      <td>354</td>\n",
       "      <td>1002</td>\n",
       "    </tr>\n",
       "    <tr>\n",
       "      <th>6</th>\n",
       "      <td>entrepreneur</td>\n",
       "      <td>1175</td>\n",
       "      <td>98</td>\n",
       "      <td>1077</td>\n",
       "    </tr>\n",
       "    <tr>\n",
       "      <th>7</th>\n",
       "      <td>self-employed</td>\n",
       "      <td>1118</td>\n",
       "      <td>112</td>\n",
       "      <td>1006</td>\n",
       "    </tr>\n",
       "    <tr>\n",
       "      <th>8</th>\n",
       "      <td>housemaid</td>\n",
       "      <td>859</td>\n",
       "      <td>84</td>\n",
       "      <td>775</td>\n",
       "    </tr>\n",
       "    <tr>\n",
       "      <th>9</th>\n",
       "      <td>unemployed</td>\n",
       "      <td>806</td>\n",
       "      <td>109</td>\n",
       "      <td>697</td>\n",
       "    </tr>\n",
       "    <tr>\n",
       "      <th>10</th>\n",
       "      <td>student</td>\n",
       "      <td>710</td>\n",
       "      <td>225</td>\n",
       "      <td>485</td>\n",
       "    </tr>\n",
       "    <tr>\n",
       "      <th>11</th>\n",
       "      <td>unknown</td>\n",
       "      <td>269</td>\n",
       "      <td>32</td>\n",
       "      <td>237</td>\n",
       "    </tr>\n",
       "  </tbody>\n",
       "</table>\n",
       "</div>"
      ],
      "text/plain": [
       "        Job Title  Total   Yes    No\n",
       "0          admin.   8215  1075  7140\n",
       "1     blue-collar   7408   500  6908\n",
       "2      technician   5374   578  4796\n",
       "3        services   3121   253  2868\n",
       "4      management   2361   262  2099\n",
       "5         retired   1356   354  1002\n",
       "6    entrepreneur   1175    98  1077\n",
       "7   self-employed   1118   112  1006\n",
       "8       housemaid    859    84   775\n",
       "9      unemployed    806   109   697\n",
       "10        student    710   225   485\n",
       "11        unknown    269    32   237"
      ]
     },
     "execution_count": 101,
     "metadata": {},
     "output_type": "execute_result"
    }
   ],
   "source": [
    "total_count_in_each_group=[]\n",
    "yes_count=[]\n",
    "no_count=[]\n",
    "title=[]\n",
    "for i in data['job'].value_counts().index:\n",
    "    df_job=pd.DataFrame()\n",
    "    df_job=data[data['job']==i]\n",
    "    title.append(i)\n",
    "    total_count_in_each_group.append(df_job.shape[0])\n",
    "    yes_count.append(df_job[df_job['y']=='yes'].count()['y'])\n",
    "    no_count.append(df_job[df_job['y']=='no'].count()['y'])\n",
    "df_jobs=pd.DataFrame()\n",
    "df_jobs['Job Title']=title\n",
    "df_jobs['Total']=total_count_in_each_group\n",
    "df_jobs['Yes']=yes_count\n",
    "df_jobs['No']=no_count\n",
    "df_jobs"
   ]
  },
  {
   "cell_type": "code",
   "execution_count": 102,
   "metadata": {},
   "outputs": [
    {
     "data": {
      "text/plain": [
       "([<matplotlib.axis.XTick at 0x7fee687da460>,\n",
       "  <matplotlib.axis.XTick at 0x7fee687da430>,\n",
       "  <matplotlib.axis.XTick at 0x7fee687df160>,\n",
       "  <matplotlib.axis.XTick at 0x7fee5bd784f0>,\n",
       "  <matplotlib.axis.XTick at 0x7fee5bd78a00>,\n",
       "  <matplotlib.axis.XTick at 0x7fee5bd78f10>,\n",
       "  <matplotlib.axis.XTick at 0x7fee5bd7f460>,\n",
       "  <matplotlib.axis.XTick at 0x7fee5bd7f970>,\n",
       "  <matplotlib.axis.XTick at 0x7fee687ceb50>,\n",
       "  <matplotlib.axis.XTick at 0x7fee5bd87430>,\n",
       "  <matplotlib.axis.XTick at 0x7fee5bd87940>,\n",
       "  <matplotlib.axis.XTick at 0x7fee5bd7f070>],\n",
       " [Text(0, 0, 'admin.'),\n",
       "  Text(1, 0, 'blue-collar'),\n",
       "  Text(2, 0, 'technician'),\n",
       "  Text(3, 0, 'services'),\n",
       "  Text(4, 0, 'management'),\n",
       "  Text(5, 0, 'retired'),\n",
       "  Text(6, 0, 'entrepreneur'),\n",
       "  Text(7, 0, 'self-employed'),\n",
       "  Text(8, 0, 'housemaid'),\n",
       "  Text(9, 0, 'unemployed'),\n",
       "  Text(10, 0, 'student'),\n",
       "  Text(11, 0, 'unknown')])"
      ]
     },
     "execution_count": 102,
     "metadata": {},
     "output_type": "execute_result"
    },
    {
     "data": {
      "image/png": "[encoded data removed]",
      "text/plain": [
       "<Figure size 1440x360 with 1 Axes>"
      ]
     },
     "metadata": {
      "needs_background": "light"
     },
     "output_type": "display_data"
    }
   ],
   "source": [
    "labels=df_jobs['Job Title']\n",
    "positions = np.arange(0,12,1)\n",
    "df_jobs.plot(kind='bar',figsize=(20,5))\n",
    "plt.xticks(positions, labels)"
   ]
  },
  {
   "cell_type": "code",
   "execution_count": 103,
   "metadata": {},
   "outputs": [
    {
     "data": {
      "text/html": [
       "<div>\n",
       "<style scoped>\n",
       "    .dataframe tbody tr th:only-of-type {\n",
       "        vertical-align: middle;\n",
       "    }\n",
       "\n",
       "    .dataframe tbody tr th {\n",
       "        vertical-align: top;\n",
       "    }\n",
       "\n",
       "    .dataframe thead th {\n",
       "        text-align: right;\n",
       "    }\n",
       "</style>\n",
       "<table border=\"1\" class=\"dataframe\">\n",
       "  <thead>\n",
       "    <tr style=\"text-align: right;\">\n",
       "      <th></th>\n",
       "      <th>Job Title</th>\n",
       "      <th>Percentage_yes</th>\n",
       "      <th>Percentage_no</th>\n",
       "    </tr>\n",
       "  </thead>\n",
       "  <tbody>\n",
       "    <tr>\n",
       "      <th>10</th>\n",
       "      <td>student</td>\n",
       "      <td>31.690141</td>\n",
       "      <td>68.309859</td>\n",
       "    </tr>\n",
       "    <tr>\n",
       "      <th>5</th>\n",
       "      <td>retired</td>\n",
       "      <td>26.106195</td>\n",
       "      <td>73.893805</td>\n",
       "    </tr>\n",
       "    <tr>\n",
       "      <th>9</th>\n",
       "      <td>unemployed</td>\n",
       "      <td>13.523573</td>\n",
       "      <td>86.476427</td>\n",
       "    </tr>\n",
       "    <tr>\n",
       "      <th>0</th>\n",
       "      <td>admin.</td>\n",
       "      <td>13.085819</td>\n",
       "      <td>86.914181</td>\n",
       "    </tr>\n",
       "    <tr>\n",
       "      <th>11</th>\n",
       "      <td>unknown</td>\n",
       "      <td>11.895911</td>\n",
       "      <td>88.104089</td>\n",
       "    </tr>\n",
       "    <tr>\n",
       "      <th>4</th>\n",
       "      <td>management</td>\n",
       "      <td>11.096993</td>\n",
       "      <td>88.903007</td>\n",
       "    </tr>\n",
       "    <tr>\n",
       "      <th>2</th>\n",
       "      <td>technician</td>\n",
       "      <td>10.755489</td>\n",
       "      <td>89.244511</td>\n",
       "    </tr>\n",
       "    <tr>\n",
       "      <th>7</th>\n",
       "      <td>self-employed</td>\n",
       "      <td>10.017889</td>\n",
       "      <td>89.982111</td>\n",
       "    </tr>\n",
       "    <tr>\n",
       "      <th>8</th>\n",
       "      <td>housemaid</td>\n",
       "      <td>9.778813</td>\n",
       "      <td>90.221187</td>\n",
       "    </tr>\n",
       "    <tr>\n",
       "      <th>6</th>\n",
       "      <td>entrepreneur</td>\n",
       "      <td>8.340426</td>\n",
       "      <td>91.659574</td>\n",
       "    </tr>\n",
       "    <tr>\n",
       "      <th>3</th>\n",
       "      <td>services</td>\n",
       "      <td>8.106376</td>\n",
       "      <td>91.893624</td>\n",
       "    </tr>\n",
       "    <tr>\n",
       "      <th>1</th>\n",
       "      <td>blue-collar</td>\n",
       "      <td>6.749460</td>\n",
       "      <td>93.250540</td>\n",
       "    </tr>\n",
       "  </tbody>\n",
       "</table>\n",
       "</div>"
      ],
      "text/plain": [
       "        Job Title  Percentage_yes  Percentage_no\n",
       "10        student       31.690141      68.309859\n",
       "5         retired       26.106195      73.893805\n",
       "9      unemployed       13.523573      86.476427\n",
       "0          admin.       13.085819      86.914181\n",
       "11        unknown       11.895911      88.104089\n",
       "4      management       11.096993      88.903007\n",
       "2      technician       10.755489      89.244511\n",
       "7   self-employed       10.017889      89.982111\n",
       "8       housemaid        9.778813      90.221187\n",
       "6    entrepreneur        8.340426      91.659574\n",
       "3        services        8.106376      91.893624\n",
       "1     blue-collar        6.749460      93.250540"
      ]
     },
     "execution_count": 103,
     "metadata": {},
     "output_type": "execute_result"
    }
   ],
   "source": [
    "df_jobs_final=pd.DataFrame()\n",
    "df_jobs_final['Job Title']=title\n",
    "df_jobs_final['Percentage_yes']=(df_jobs['Yes']/df_jobs['Total'])*100\n",
    "df_jobs_final['Percentage_no']=(df_jobs['No']/df_jobs['Total'])*100\n",
    "df_jobs_final=df_jobs_final.sort_values('Percentage_yes',ascending=False)\n",
    "df_jobs_final"
   ]
  },
  {
   "cell_type": "code",
   "execution_count": 104,
   "metadata": {},
   "outputs": [
    {
     "data": {
      "text/plain": [
       "([<matplotlib.axis.XTick at 0x7fee5be0c0a0>,\n",
       "  <matplotlib.axis.XTick at 0x7fee5be0c070>,\n",
       "  <matplotlib.axis.XTick at 0x7fee5bdef760>,\n",
       "  <matplotlib.axis.XTick at 0x7fee48e67d90>,\n",
       "  <matplotlib.axis.XTick at 0x7fee48e702e0>,\n",
       "  <matplotlib.axis.XTick at 0x7fee48e707f0>,\n",
       "  <matplotlib.axis.XTick at 0x7fee48e70d00>,\n",
       "  <matplotlib.axis.XTick at 0x7fee48e77250>,\n",
       "  <matplotlib.axis.XTick at 0x7fee5be06670>,\n",
       "  <matplotlib.axis.XTick at 0x7fee48e77cd0>,\n",
       "  <matplotlib.axis.XTick at 0x7fee48e7d220>,\n",
       "  <matplotlib.axis.XTick at 0x7fee48e772e0>],\n",
       " [Text(0, 0, 'student'),\n",
       "  Text(1, 0, 'retired'),\n",
       "  Text(2, 0, 'unemployed'),\n",
       "  Text(3, 0, 'admin.'),\n",
       "  Text(4, 0, 'unknown'),\n",
       "  Text(5, 0, 'management'),\n",
       "  Text(6, 0, 'technician'),\n",
       "  Text(7, 0, 'self-employed'),\n",
       "  Text(8, 0, 'housemaid'),\n",
       "  Text(9, 0, 'entrepreneur'),\n",
       "  Text(10, 0, 'services'),\n",
       "  Text(11, 0, 'blue-collar')])"
      ]
     },
     "execution_count": 104,
     "metadata": {},
     "output_type": "execute_result"
    },
    {
     "data": {
      "image/png": "[encoded data removed]",
      "text/plain": [
       "<Figure size 1440x360 with 1 Axes>"
      ]
     },
     "metadata": {
      "needs_background": "light"
     },
     "output_type": "display_data"
    }
   ],
   "source": [
    "labels=df_jobs_final['Job Title'].tolist()\n",
    "position=df_jobs_final['Job Title'].index\n",
    "df_jobs_final.plot(kind='bar',figsize=(20,5))\n",
    "plt.xticks(positions, labels)"
   ]
  },
  {
   "cell_type": "code",
   "execution_count": 105,
   "metadata": {},
   "outputs": [],
   "source": [
    "# 1)From above graph we can see that students and retired people are the clients who have high percentage of of subscription rate.\n",
    "\n",
    "# 2)Blue-collar,entrepreneur,housemaid,services have low are few jobs that have low subscription rate.\n",
    "\n",
    "# 3)People with job description as 'Blue-collar' are the most contacted people\n",
    "\n",
    "# 4)Students are the less contacted people\n",
    "\n",
    "# 4)We have 288 enteries where job is unknown."
   ]
  },
  {
   "cell_type": "code",
   "execution_count": 106,
   "metadata": {},
   "outputs": [
    {
     "data": {
      "text/html": [
       "<div>\n",
       "<style scoped>\n",
       "    .dataframe tbody tr th:only-of-type {\n",
       "        vertical-align: middle;\n",
       "    }\n",
       "\n",
       "    .dataframe tbody tr th {\n",
       "        vertical-align: top;\n",
       "    }\n",
       "\n",
       "    .dataframe thead th {\n",
       "        text-align: right;\n",
       "    }\n",
       "</style>\n",
       "<table border=\"1\" class=\"dataframe\">\n",
       "  <thead>\n",
       "    <tr style=\"text-align: right;\">\n",
       "      <th></th>\n",
       "      <th>marital</th>\n",
       "    </tr>\n",
       "  </thead>\n",
       "  <tbody>\n",
       "    <tr>\n",
       "      <th>married</th>\n",
       "      <td>19846</td>\n",
       "    </tr>\n",
       "    <tr>\n",
       "      <th>single</th>\n",
       "      <td>9217</td>\n",
       "    </tr>\n",
       "    <tr>\n",
       "      <th>divorced</th>\n",
       "      <td>3644</td>\n",
       "    </tr>\n",
       "    <tr>\n",
       "      <th>unknown</th>\n",
       "      <td>65</td>\n",
       "    </tr>\n",
       "  </tbody>\n",
       "</table>\n",
       "</div>"
      ],
      "text/plain": [
       "          marital\n",
       "married     19846\n",
       "single       9217\n",
       "divorced     3644\n",
       "unknown        65"
      ]
     },
     "execution_count": 106,
     "metadata": {},
     "output_type": "execute_result"
    }
   ],
   "source": [
    "df_married=data[data['marital']=='married']\n",
    "df_single=data[data['marital']=='single']\n",
    "df_divorced=data[data['marital']=='divorced']\n",
    "df_unknown=data[data['marital']=='unknown']\n",
    "married=data['marital'].value_counts().to_frame()\n",
    "married"
   ]
  },
  {
   "cell_type": "code",
   "execution_count": 107,
   "metadata": {},
   "outputs": [],
   "source": [
    "yes_count=[]\n",
    "yes_count.append(df_married[df_married['y']=='yes'].count()[1])\n",
    "yes_count.append(df_single[df_single['y']=='yes'].count()[1])\n",
    "yes_count.append(df_divorced[df_divorced['y']=='yes'].count()[1])\n",
    "yes_count.append(df_unknown[df_unknown['y']=='yes'].count()[1])\n",
    "married['Subscription count']=yes_count\n"
   ]
  },
  {
   "cell_type": "code",
   "execution_count": 108,
   "metadata": {},
   "outputs": [
    {
     "data": {
      "text/plain": [
       "<AxesSubplot:>"
      ]
     },
     "execution_count": 108,
     "metadata": {},
     "output_type": "execute_result"
    },
    {
     "data": {
      "image/png": "[encoded data removed]",
      "text/plain": [
       "<Figure size 432x288 with 1 Axes>"
      ]
     },
     "metadata": {
      "needs_background": "light"
     },
     "output_type": "display_data"
    }
   ],
   "source": [
    "married.plot(kind='bar')"
   ]
  },
  {
   "cell_type": "code",
   "execution_count": 109,
   "metadata": {},
   "outputs": [
    {
     "data": {
      "text/html": [
       "<div>\n",
       "<style scoped>\n",
       "    .dataframe tbody tr th:only-of-type {\n",
       "        vertical-align: middle;\n",
       "    }\n",
       "\n",
       "    .dataframe tbody tr th {\n",
       "        vertical-align: top;\n",
       "    }\n",
       "\n",
       "    .dataframe thead th {\n",
       "        text-align: right;\n",
       "    }\n",
       "</style>\n",
       "<table border=\"1\" class=\"dataframe\">\n",
       "  <thead>\n",
       "    <tr style=\"text-align: right;\">\n",
       "      <th></th>\n",
       "      <th>marital</th>\n",
       "      <th>Subscription count</th>\n",
       "      <th>Percentage</th>\n",
       "    </tr>\n",
       "  </thead>\n",
       "  <tbody>\n",
       "    <tr>\n",
       "      <th>unknown</th>\n",
       "      <td>65</td>\n",
       "      <td>10</td>\n",
       "      <td>15.384615</td>\n",
       "    </tr>\n",
       "    <tr>\n",
       "      <th>single</th>\n",
       "      <td>9217</td>\n",
       "      <td>1287</td>\n",
       "      <td>13.963329</td>\n",
       "    </tr>\n",
       "    <tr>\n",
       "      <th>divorced</th>\n",
       "      <td>3644</td>\n",
       "      <td>390</td>\n",
       "      <td>10.702525</td>\n",
       "    </tr>\n",
       "    <tr>\n",
       "      <th>married</th>\n",
       "      <td>19846</td>\n",
       "      <td>1995</td>\n",
       "      <td>10.052404</td>\n",
       "    </tr>\n",
       "  </tbody>\n",
       "</table>\n",
       "</div>"
      ],
      "text/plain": [
       "          marital  Subscription count  Percentage\n",
       "unknown        65                  10   15.384615\n",
       "single       9217                1287   13.963329\n",
       "divorced     3644                 390   10.702525\n",
       "married     19846                1995   10.052404"
      ]
     },
     "execution_count": 109,
     "metadata": {},
     "output_type": "execute_result"
    }
   ],
   "source": [
    "married['Percentage']=(married['Subscription count']/married['marital'])*100\n",
    "married.sort_values(by='Percentage',ascending=False)"
   ]
  },
  {
   "cell_type": "code",
   "execution_count": 110,
   "metadata": {},
   "outputs": [],
   "source": [
    "# As per the visualization, 'Marital' and y don't have a strong relationship\n"
   ]
  },
  {
   "cell_type": "code",
   "execution_count": 111,
   "metadata": {},
   "outputs": [
    {
     "data": {
      "text/html": [
       "<div>\n",
       "<style scoped>\n",
       "    .dataframe tbody tr th:only-of-type {\n",
       "        vertical-align: middle;\n",
       "    }\n",
       "\n",
       "    .dataframe tbody tr th {\n",
       "        vertical-align: top;\n",
       "    }\n",
       "\n",
       "    .dataframe thead th {\n",
       "        text-align: right;\n",
       "    }\n",
       "</style>\n",
       "<table border=\"1\" class=\"dataframe\">\n",
       "  <thead>\n",
       "    <tr style=\"text-align: right;\">\n",
       "      <th></th>\n",
       "      <th>education</th>\n",
       "    </tr>\n",
       "  </thead>\n",
       "  <tbody>\n",
       "    <tr>\n",
       "      <th>university.degree</th>\n",
       "      <td>9661</td>\n",
       "    </tr>\n",
       "    <tr>\n",
       "      <th>high.school</th>\n",
       "      <td>7553</td>\n",
       "    </tr>\n",
       "    <tr>\n",
       "      <th>basic.9y</th>\n",
       "      <td>4795</td>\n",
       "    </tr>\n",
       "    <tr>\n",
       "      <th>professional.course</th>\n",
       "      <td>4190</td>\n",
       "    </tr>\n",
       "    <tr>\n",
       "      <th>basic.4y</th>\n",
       "      <td>3351</td>\n",
       "    </tr>\n",
       "    <tr>\n",
       "      <th>basic.6y</th>\n",
       "      <td>1826</td>\n",
       "    </tr>\n",
       "    <tr>\n",
       "      <th>unknown</th>\n",
       "      <td>1380</td>\n",
       "    </tr>\n",
       "    <tr>\n",
       "      <th>illiterate</th>\n",
       "      <td>16</td>\n",
       "    </tr>\n",
       "  </tbody>\n",
       "</table>\n",
       "</div>"
      ],
      "text/plain": [
       "                     education\n",
       "university.degree         9661\n",
       "high.school               7553\n",
       "basic.9y                  4795\n",
       "professional.course       4190\n",
       "basic.4y                  3351\n",
       "basic.6y                  1826\n",
       "unknown                   1380\n",
       "illiterate                  16"
      ]
     },
     "execution_count": 111,
     "metadata": {},
     "output_type": "execute_result"
    }
   ],
   "source": [
    "education=data['education'].value_counts().to_frame()\n",
    "education"
   ]
  },
  {
   "cell_type": "code",
   "execution_count": 112,
   "metadata": {},
   "outputs": [],
   "source": [
    "df_uni=data[data['education']=='university.degree']\n",
    "df_high_school=data[data['education']=='high.school']\n",
    "df_basic_9years=data[data['education']=='basic.9y']\n",
    "df_pro_course=data[data['education']=='professional.course']\n",
    "df_basic_4years=data[data['education']=='basic.4y']\n",
    "df_basic_6years=data[data['education']=='basic.6y']\n",
    "df_unknown=data[data['education']=='unknown']\n",
    "df_illiterate=data[data['education']=='illiterate']\n",
    "\n",
    "yes_count=[]\n",
    "yes_count.append(df_uni[df_uni['y']=='yes'].count()[1])\n",
    "yes_count.append(df_high_school[df_high_school['y']=='yes'].count()[1])\n",
    "yes_count.append(df_basic_9years[df_basic_9years['y']=='yes'].count()[1])\n",
    "yes_count.append(df_unknown[df_unknown['y']=='yes'].count()[1])\n",
    "yes_count.append(df_pro_course[df_pro_course['y']=='yes'].count()[1])\n",
    "yes_count.append(df_basic_4years[df_basic_4years['y']=='yes'].count()[1])\n",
    "yes_count.append(df_basic_6years[df_basic_6years['y']=='yes'].count()[1])\n",
    "yes_count.append(df_illiterate[df_illiterate['y']=='yes'].count()[1])\n",
    "education['Subscription count']=yes_count"
   ]
  },
  {
   "cell_type": "code",
   "execution_count": 113,
   "metadata": {},
   "outputs": [
    {
     "data": {
      "text/plain": [
       "<AxesSubplot:>"
      ]
     },
     "execution_count": 113,
     "metadata": {},
     "output_type": "execute_result"
    },
    {
     "data": {
      "image/png": "[encoded data removed]",
      "text/plain": [
       "<Figure size 432x288 with 1 Axes>"
      ]
     },
     "metadata": {
      "needs_background": "light"
     },
     "output_type": "display_data"
    }
   ],
   "source": [
    "education.plot(kind='bar')"
   ]
  },
  {
   "cell_type": "code",
   "execution_count": 114,
   "metadata": {},
   "outputs": [
    {
     "data": {
      "text/html": [
       "<div>\n",
       "<style scoped>\n",
       "    .dataframe tbody tr th:only-of-type {\n",
       "        vertical-align: middle;\n",
       "    }\n",
       "\n",
       "    .dataframe tbody tr th {\n",
       "        vertical-align: top;\n",
       "    }\n",
       "\n",
       "    .dataframe thead th {\n",
       "        text-align: right;\n",
       "    }\n",
       "</style>\n",
       "<table border=\"1\" class=\"dataframe\">\n",
       "  <thead>\n",
       "    <tr style=\"text-align: right;\">\n",
       "      <th></th>\n",
       "      <th>education</th>\n",
       "      <th>Subscription count</th>\n",
       "      <th>Percentage</th>\n",
       "    </tr>\n",
       "  </thead>\n",
       "  <tbody>\n",
       "    <tr>\n",
       "      <th>illiterate</th>\n",
       "      <td>16</td>\n",
       "      <td>4</td>\n",
       "      <td>25.000000</td>\n",
       "    </tr>\n",
       "    <tr>\n",
       "      <th>basic.6y</th>\n",
       "      <td>1826</td>\n",
       "      <td>338</td>\n",
       "      <td>18.510405</td>\n",
       "    </tr>\n",
       "    <tr>\n",
       "      <th>basic.4y</th>\n",
       "      <td>3351</td>\n",
       "      <td>471</td>\n",
       "      <td>14.055506</td>\n",
       "    </tr>\n",
       "    <tr>\n",
       "      <th>university.degree</th>\n",
       "      <td>9661</td>\n",
       "      <td>1331</td>\n",
       "      <td>13.777042</td>\n",
       "    </tr>\n",
       "    <tr>\n",
       "      <th>high.school</th>\n",
       "      <td>7553</td>\n",
       "      <td>829</td>\n",
       "      <td>10.975771</td>\n",
       "    </tr>\n",
       "    <tr>\n",
       "      <th>unknown</th>\n",
       "      <td>1380</td>\n",
       "      <td>146</td>\n",
       "      <td>10.579710</td>\n",
       "    </tr>\n",
       "    <tr>\n",
       "      <th>basic.9y</th>\n",
       "      <td>4795</td>\n",
       "      <td>367</td>\n",
       "      <td>7.653806</td>\n",
       "    </tr>\n",
       "    <tr>\n",
       "      <th>professional.course</th>\n",
       "      <td>4190</td>\n",
       "      <td>196</td>\n",
       "      <td>4.677804</td>\n",
       "    </tr>\n",
       "  </tbody>\n",
       "</table>\n",
       "</div>"
      ],
      "text/plain": [
       "                     education  Subscription count  Percentage\n",
       "illiterate                  16                   4   25.000000\n",
       "basic.6y                  1826                 338   18.510405\n",
       "basic.4y                  3351                 471   14.055506\n",
       "university.degree         9661                1331   13.777042\n",
       "high.school               7553                 829   10.975771\n",
       "unknown                   1380                 146   10.579710\n",
       "basic.9y                  4795                 367    7.653806\n",
       "professional.course       4190                 196    4.677804"
      ]
     },
     "execution_count": 114,
     "metadata": {},
     "output_type": "execute_result"
    }
   ],
   "source": [
    "education['Percentage']=(education['Subscription count']/education['education'])*100\n",
    "education.sort_values(by='Percentage',ascending=False)"
   ]
  },
  {
   "cell_type": "code",
   "execution_count": 115,
   "metadata": {},
   "outputs": [],
   "source": [
    "# 1)Columns 'education' and 'y' don't show strong relstionship\n",
    "\n",
    "# 2)Here we have 1380 enteries where education is unknown"
   ]
  },
  {
   "cell_type": "code",
   "execution_count": 116,
   "metadata": {},
   "outputs": [
    {
     "data": {
      "text/html": [
       "<div>\n",
       "<style scoped>\n",
       "    .dataframe tbody tr th:only-of-type {\n",
       "        vertical-align: middle;\n",
       "    }\n",
       "\n",
       "    .dataframe tbody tr th {\n",
       "        vertical-align: top;\n",
       "    }\n",
       "\n",
       "    .dataframe thead th {\n",
       "        text-align: right;\n",
       "    }\n",
       "</style>\n",
       "<table border=\"1\" class=\"dataframe\">\n",
       "  <thead>\n",
       "    <tr style=\"text-align: right;\">\n",
       "      <th></th>\n",
       "      <th>Status</th>\n",
       "      <th>Values</th>\n",
       "      <th>Percentage</th>\n",
       "    </tr>\n",
       "  </thead>\n",
       "  <tbody>\n",
       "    <tr>\n",
       "      <th>0</th>\n",
       "      <td>Success</td>\n",
       "      <td>1083</td>\n",
       "      <td>2.395435</td>\n",
       "    </tr>\n",
       "    <tr>\n",
       "      <th>1</th>\n",
       "      <td>Failure</td>\n",
       "      <td>3372</td>\n",
       "      <td>7.458362</td>\n",
       "    </tr>\n",
       "    <tr>\n",
       "      <th>2</th>\n",
       "      <td>nonexistent</td>\n",
       "      <td>28317</td>\n",
       "      <td>62.632988</td>\n",
       "    </tr>\n",
       "  </tbody>\n",
       "</table>\n",
       "</div>"
      ],
      "text/plain": [
       "        Status  Values  Percentage\n",
       "0      Success    1083    2.395435\n",
       "1      Failure    3372    7.458362\n",
       "2  nonexistent   28317   62.632988"
      ]
     },
     "execution_count": 116,
     "metadata": {},
     "output_type": "execute_result"
    }
   ],
   "source": [
    "success=data[(data['poutcome']=='success')].count()['poutcome']\n",
    "failure=data[(data['poutcome']=='failure')].count()['poutcome']\n",
    "nonexistent=data[(data['poutcome']=='nonexistent')].count()['poutcome']\n",
    "other=data[(data['poutcome']=='other')].count()['poutcome']\n",
    "previous_campaign=pd.DataFrame({'Status':['Success','Failure','nonexistent'],\"Values\":[success,failure,nonexistent]})\n",
    "previous_campaign['Percentage']=(previous_campaign['Values']/45211)*100\n",
    "previous_campaign"
   ]
  },
  {
   "cell_type": "code",
   "execution_count": 117,
   "metadata": {},
   "outputs": [],
   "source": [
    "#62 of values are non existent value in poutcome column This column can be dropped."
   ]
  },
  {
   "cell_type": "code",
   "execution_count": 118,
   "metadata": {},
   "outputs": [
    {
     "data": {
      "text/plain": [
       "array([999,   6,   4,   1,   0,   5,   3,  10,   7,   8,   9,  11,   2,\n",
       "        12,  13,  14,  15,  16,  17,  18,  22,  25,  19,  27,  20,  21])"
      ]
     },
     "execution_count": 118,
     "metadata": {},
     "output_type": "execute_result"
    }
   ],
   "source": [
    "data['pdays'].unique()"
   ]
  },
  {
   "cell_type": "code",
   "execution_count": 119,
   "metadata": {},
   "outputs": [
    {
     "data": {
      "text/html": [
       "<div>\n",
       "<style scoped>\n",
       "    .dataframe tbody tr th:only-of-type {\n",
       "        vertical-align: middle;\n",
       "    }\n",
       "\n",
       "    .dataframe tbody tr th {\n",
       "        vertical-align: top;\n",
       "    }\n",
       "\n",
       "    .dataframe thead th {\n",
       "        text-align: right;\n",
       "    }\n",
       "</style>\n",
       "<table border=\"1\" class=\"dataframe\">\n",
       "  <thead>\n",
       "    <tr style=\"text-align: right;\">\n",
       "      <th></th>\n",
       "      <th>age</th>\n",
       "      <th>job</th>\n",
       "      <th>marital</th>\n",
       "      <th>education</th>\n",
       "      <th>default</th>\n",
       "      <th>housing</th>\n",
       "      <th>loan</th>\n",
       "      <th>contact</th>\n",
       "      <th>month</th>\n",
       "      <th>day_of_week</th>\n",
       "      <th>...</th>\n",
       "      <th>campaign</th>\n",
       "      <th>pdays</th>\n",
       "      <th>previous</th>\n",
       "      <th>poutcome</th>\n",
       "      <th>emp.var.rate</th>\n",
       "      <th>cons.price.idx</th>\n",
       "      <th>cons.conf.idx</th>\n",
       "      <th>euribor3m</th>\n",
       "      <th>nr.employed</th>\n",
       "      <th>y</th>\n",
       "    </tr>\n",
       "  </thead>\n",
       "  <tbody>\n",
       "    <tr>\n",
       "      <th>0</th>\n",
       "      <td>56.0</td>\n",
       "      <td>housemaid</td>\n",
       "      <td>married</td>\n",
       "      <td>basic.4y</td>\n",
       "      <td>no</td>\n",
       "      <td>no</td>\n",
       "      <td>no</td>\n",
       "      <td>telephone</td>\n",
       "      <td>may</td>\n",
       "      <td>mon</td>\n",
       "      <td>...</td>\n",
       "      <td>1</td>\n",
       "      <td>999</td>\n",
       "      <td>0</td>\n",
       "      <td>nonexistent</td>\n",
       "      <td>1.1</td>\n",
       "      <td>93.994</td>\n",
       "      <td>-36.4</td>\n",
       "      <td>4.857</td>\n",
       "      <td>5191.0</td>\n",
       "      <td>no</td>\n",
       "    </tr>\n",
       "    <tr>\n",
       "      <th>1</th>\n",
       "      <td>57.0</td>\n",
       "      <td>services</td>\n",
       "      <td>married</td>\n",
       "      <td>high.school</td>\n",
       "      <td>unknown</td>\n",
       "      <td>no</td>\n",
       "      <td>no</td>\n",
       "      <td>telephone</td>\n",
       "      <td>may</td>\n",
       "      <td>mon</td>\n",
       "      <td>...</td>\n",
       "      <td>1</td>\n",
       "      <td>999</td>\n",
       "      <td>0</td>\n",
       "      <td>nonexistent</td>\n",
       "      <td>1.1</td>\n",
       "      <td>93.994</td>\n",
       "      <td>-36.4</td>\n",
       "      <td>4.857</td>\n",
       "      <td>5191.0</td>\n",
       "      <td>no</td>\n",
       "    </tr>\n",
       "    <tr>\n",
       "      <th>3</th>\n",
       "      <td>40.0</td>\n",
       "      <td>admin.</td>\n",
       "      <td>married</td>\n",
       "      <td>basic.6y</td>\n",
       "      <td>no</td>\n",
       "      <td>no</td>\n",
       "      <td>no</td>\n",
       "      <td>telephone</td>\n",
       "      <td>may</td>\n",
       "      <td>mon</td>\n",
       "      <td>...</td>\n",
       "      <td>1</td>\n",
       "      <td>999</td>\n",
       "      <td>0</td>\n",
       "      <td>nonexistent</td>\n",
       "      <td>1.1</td>\n",
       "      <td>93.994</td>\n",
       "      <td>-36.4</td>\n",
       "      <td>4.857</td>\n",
       "      <td>5191.0</td>\n",
       "      <td>no</td>\n",
       "    </tr>\n",
       "    <tr>\n",
       "      <th>5</th>\n",
       "      <td>45.0</td>\n",
       "      <td>services</td>\n",
       "      <td>married</td>\n",
       "      <td>basic.9y</td>\n",
       "      <td>unknown</td>\n",
       "      <td>no</td>\n",
       "      <td>no</td>\n",
       "      <td>telephone</td>\n",
       "      <td>may</td>\n",
       "      <td>mon</td>\n",
       "      <td>...</td>\n",
       "      <td>1</td>\n",
       "      <td>999</td>\n",
       "      <td>0</td>\n",
       "      <td>nonexistent</td>\n",
       "      <td>1.1</td>\n",
       "      <td>93.994</td>\n",
       "      <td>-36.4</td>\n",
       "      <td>4.857</td>\n",
       "      <td>5191.0</td>\n",
       "      <td>no</td>\n",
       "    </tr>\n",
       "    <tr>\n",
       "      <th>6</th>\n",
       "      <td>59.0</td>\n",
       "      <td>admin.</td>\n",
       "      <td>married</td>\n",
       "      <td>professional.course</td>\n",
       "      <td>no</td>\n",
       "      <td>no</td>\n",
       "      <td>no</td>\n",
       "      <td>telephone</td>\n",
       "      <td>may</td>\n",
       "      <td>mon</td>\n",
       "      <td>...</td>\n",
       "      <td>1</td>\n",
       "      <td>999</td>\n",
       "      <td>0</td>\n",
       "      <td>nonexistent</td>\n",
       "      <td>1.1</td>\n",
       "      <td>93.994</td>\n",
       "      <td>-36.4</td>\n",
       "      <td>4.857</td>\n",
       "      <td>5191.0</td>\n",
       "      <td>no</td>\n",
       "    </tr>\n",
       "    <tr>\n",
       "      <th>...</th>\n",
       "      <td>...</td>\n",
       "      <td>...</td>\n",
       "      <td>...</td>\n",
       "      <td>...</td>\n",
       "      <td>...</td>\n",
       "      <td>...</td>\n",
       "      <td>...</td>\n",
       "      <td>...</td>\n",
       "      <td>...</td>\n",
       "      <td>...</td>\n",
       "      <td>...</td>\n",
       "      <td>...</td>\n",
       "      <td>...</td>\n",
       "      <td>...</td>\n",
       "      <td>...</td>\n",
       "      <td>...</td>\n",
       "      <td>...</td>\n",
       "      <td>...</td>\n",
       "      <td>...</td>\n",
       "      <td>...</td>\n",
       "      <td>...</td>\n",
       "    </tr>\n",
       "    <tr>\n",
       "      <th>41181</th>\n",
       "      <td>37.0</td>\n",
       "      <td>admin.</td>\n",
       "      <td>married</td>\n",
       "      <td>university.degree</td>\n",
       "      <td>no</td>\n",
       "      <td>yes</td>\n",
       "      <td>no</td>\n",
       "      <td>cellular</td>\n",
       "      <td>nov</td>\n",
       "      <td>fri</td>\n",
       "      <td>...</td>\n",
       "      <td>1</td>\n",
       "      <td>999</td>\n",
       "      <td>0</td>\n",
       "      <td>nonexistent</td>\n",
       "      <td>-1.1</td>\n",
       "      <td>94.767</td>\n",
       "      <td>-50.8</td>\n",
       "      <td>1.028</td>\n",
       "      <td>4963.6</td>\n",
       "      <td>yes</td>\n",
       "    </tr>\n",
       "    <tr>\n",
       "      <th>41183</th>\n",
       "      <td>73.0</td>\n",
       "      <td>retired</td>\n",
       "      <td>married</td>\n",
       "      <td>professional.course</td>\n",
       "      <td>no</td>\n",
       "      <td>yes</td>\n",
       "      <td>no</td>\n",
       "      <td>cellular</td>\n",
       "      <td>nov</td>\n",
       "      <td>fri</td>\n",
       "      <td>...</td>\n",
       "      <td>1</td>\n",
       "      <td>999</td>\n",
       "      <td>0</td>\n",
       "      <td>nonexistent</td>\n",
       "      <td>-1.1</td>\n",
       "      <td>94.767</td>\n",
       "      <td>-50.8</td>\n",
       "      <td>1.028</td>\n",
       "      <td>4963.6</td>\n",
       "      <td>yes</td>\n",
       "    </tr>\n",
       "    <tr>\n",
       "      <th>41184</th>\n",
       "      <td>46.0</td>\n",
       "      <td>blue-collar</td>\n",
       "      <td>married</td>\n",
       "      <td>professional.course</td>\n",
       "      <td>no</td>\n",
       "      <td>no</td>\n",
       "      <td>no</td>\n",
       "      <td>cellular</td>\n",
       "      <td>nov</td>\n",
       "      <td>fri</td>\n",
       "      <td>...</td>\n",
       "      <td>1</td>\n",
       "      <td>999</td>\n",
       "      <td>0</td>\n",
       "      <td>nonexistent</td>\n",
       "      <td>-1.1</td>\n",
       "      <td>94.767</td>\n",
       "      <td>-50.8</td>\n",
       "      <td>1.028</td>\n",
       "      <td>4963.6</td>\n",
       "      <td>no</td>\n",
       "    </tr>\n",
       "    <tr>\n",
       "      <th>41186</th>\n",
       "      <td>44.0</td>\n",
       "      <td>technician</td>\n",
       "      <td>married</td>\n",
       "      <td>professional.course</td>\n",
       "      <td>no</td>\n",
       "      <td>no</td>\n",
       "      <td>no</td>\n",
       "      <td>cellular</td>\n",
       "      <td>nov</td>\n",
       "      <td>fri</td>\n",
       "      <td>...</td>\n",
       "      <td>1</td>\n",
       "      <td>999</td>\n",
       "      <td>0</td>\n",
       "      <td>nonexistent</td>\n",
       "      <td>-1.1</td>\n",
       "      <td>94.767</td>\n",
       "      <td>-50.8</td>\n",
       "      <td>1.028</td>\n",
       "      <td>4963.6</td>\n",
       "      <td>yes</td>\n",
       "    </tr>\n",
       "    <tr>\n",
       "      <th>41187</th>\n",
       "      <td>74.0</td>\n",
       "      <td>retired</td>\n",
       "      <td>married</td>\n",
       "      <td>professional.course</td>\n",
       "      <td>no</td>\n",
       "      <td>yes</td>\n",
       "      <td>no</td>\n",
       "      <td>cellular</td>\n",
       "      <td>nov</td>\n",
       "      <td>fri</td>\n",
       "      <td>...</td>\n",
       "      <td>3</td>\n",
       "      <td>999</td>\n",
       "      <td>1</td>\n",
       "      <td>failure</td>\n",
       "      <td>-1.1</td>\n",
       "      <td>94.767</td>\n",
       "      <td>-50.8</td>\n",
       "      <td>1.028</td>\n",
       "      <td>4963.6</td>\n",
       "      <td>no</td>\n",
       "    </tr>\n",
       "  </tbody>\n",
       "</table>\n",
       "<p>31580 rows × 21 columns</p>\n",
       "</div>"
      ],
      "text/plain": [
       "        age          job  marital            education  default housing loan  \\\n",
       "0      56.0    housemaid  married             basic.4y       no      no   no   \n",
       "1      57.0     services  married          high.school  unknown      no   no   \n",
       "3      40.0       admin.  married             basic.6y       no      no   no   \n",
       "5      45.0     services  married             basic.9y  unknown      no   no   \n",
       "6      59.0       admin.  married  professional.course       no      no   no   \n",
       "...     ...          ...      ...                  ...      ...     ...  ...   \n",
       "41181  37.0       admin.  married    university.degree       no     yes   no   \n",
       "41183  73.0      retired  married  professional.course       no     yes   no   \n",
       "41184  46.0  blue-collar  married  professional.course       no      no   no   \n",
       "41186  44.0   technician  married  professional.course       no      no   no   \n",
       "41187  74.0      retired  married  professional.course       no     yes   no   \n",
       "\n",
       "         contact month day_of_week  ...  campaign  pdays  previous  \\\n",
       "0      telephone   may         mon  ...         1    999         0   \n",
       "1      telephone   may         mon  ...         1    999         0   \n",
       "3      telephone   may         mon  ...         1    999         0   \n",
       "5      telephone   may         mon  ...         1    999         0   \n",
       "6      telephone   may         mon  ...         1    999         0   \n",
       "...          ...   ...         ...  ...       ...    ...       ...   \n",
       "41181   cellular   nov         fri  ...         1    999         0   \n",
       "41183   cellular   nov         fri  ...         1    999         0   \n",
       "41184   cellular   nov         fri  ...         1    999         0   \n",
       "41186   cellular   nov         fri  ...         1    999         0   \n",
       "41187   cellular   nov         fri  ...         3    999         1   \n",
       "\n",
       "          poutcome emp.var.rate  cons.price.idx  cons.conf.idx  euribor3m  \\\n",
       "0      nonexistent          1.1          93.994          -36.4      4.857   \n",
       "1      nonexistent          1.1          93.994          -36.4      4.857   \n",
       "3      nonexistent          1.1          93.994          -36.4      4.857   \n",
       "5      nonexistent          1.1          93.994          -36.4      4.857   \n",
       "6      nonexistent          1.1          93.994          -36.4      4.857   \n",
       "...            ...          ...             ...            ...        ...   \n",
       "41181  nonexistent         -1.1          94.767          -50.8      1.028   \n",
       "41183  nonexistent         -1.1          94.767          -50.8      1.028   \n",
       "41184  nonexistent         -1.1          94.767          -50.8      1.028   \n",
       "41186  nonexistent         -1.1          94.767          -50.8      1.028   \n",
       "41187      failure         -1.1          94.767          -50.8      1.028   \n",
       "\n",
       "       nr.employed    y  \n",
       "0           5191.0   no  \n",
       "1           5191.0   no  \n",
       "3           5191.0   no  \n",
       "5           5191.0   no  \n",
       "6           5191.0   no  \n",
       "...            ...  ...  \n",
       "41181       4963.6  yes  \n",
       "41183       4963.6  yes  \n",
       "41184       4963.6   no  \n",
       "41186       4963.6  yes  \n",
       "41187       4963.6   no  \n",
       "\n",
       "[31580 rows x 21 columns]"
      ]
     },
     "execution_count": 119,
     "metadata": {},
     "output_type": "execute_result"
    }
   ],
   "source": [
    "data[data['pdays']==999]"
   ]
  },
  {
   "cell_type": "code",
   "execution_count": 120,
   "metadata": {},
   "outputs": [
    {
     "data": {
      "text/html": [
       "<div>\n",
       "<style scoped>\n",
       "    .dataframe tbody tr th:only-of-type {\n",
       "        vertical-align: middle;\n",
       "    }\n",
       "\n",
       "    .dataframe tbody tr th {\n",
       "        vertical-align: top;\n",
       "    }\n",
       "\n",
       "    .dataframe thead th {\n",
       "        text-align: right;\n",
       "    }\n",
       "</style>\n",
       "<table border=\"1\" class=\"dataframe\">\n",
       "  <thead>\n",
       "    <tr style=\"text-align: right;\">\n",
       "      <th></th>\n",
       "      <th>age</th>\n",
       "      <th>job</th>\n",
       "      <th>marital</th>\n",
       "      <th>education</th>\n",
       "      <th>default</th>\n",
       "      <th>housing</th>\n",
       "      <th>loan</th>\n",
       "      <th>contact</th>\n",
       "      <th>month</th>\n",
       "      <th>day_of_week</th>\n",
       "      <th>...</th>\n",
       "      <th>campaign</th>\n",
       "      <th>pdays</th>\n",
       "      <th>previous</th>\n",
       "      <th>poutcome</th>\n",
       "      <th>emp.var.rate</th>\n",
       "      <th>cons.price.idx</th>\n",
       "      <th>cons.conf.idx</th>\n",
       "      <th>euribor3m</th>\n",
       "      <th>nr.employed</th>\n",
       "      <th>y</th>\n",
       "    </tr>\n",
       "  </thead>\n",
       "  <tbody>\n",
       "  </tbody>\n",
       "</table>\n",
       "<p>0 rows × 21 columns</p>\n",
       "</div>"
      ],
      "text/plain": [
       "Empty DataFrame\n",
       "Columns: [age, job, marital, education, default, housing, loan, contact, month, day_of_week, duration, campaign, pdays, previous, poutcome, emp.var.rate, cons.price.idx, cons.conf.idx, euribor3m, nr.employed, y]\n",
       "Index: []\n",
       "\n",
       "[0 rows x 21 columns]"
      ]
     },
     "execution_count": 120,
     "metadata": {},
     "output_type": "execute_result"
    }
   ],
   "source": [
    "data[(data['pdays']==999) & (data['poutcome']=='unknown')]"
   ]
  },
  {
   "cell_type": "code",
   "execution_count": 121,
   "metadata": {},
   "outputs": [
    {
     "data": {
      "text/html": [
       "<div>\n",
       "<style scoped>\n",
       "    .dataframe tbody tr th:only-of-type {\n",
       "        vertical-align: middle;\n",
       "    }\n",
       "\n",
       "    .dataframe tbody tr th {\n",
       "        vertical-align: top;\n",
       "    }\n",
       "\n",
       "    .dataframe thead th {\n",
       "        text-align: right;\n",
       "    }\n",
       "</style>\n",
       "<table border=\"1\" class=\"dataframe\">\n",
       "  <thead>\n",
       "    <tr style=\"text-align: right;\">\n",
       "      <th></th>\n",
       "      <th>age</th>\n",
       "      <th>job</th>\n",
       "      <th>marital</th>\n",
       "      <th>education</th>\n",
       "      <th>default</th>\n",
       "      <th>housing</th>\n",
       "      <th>loan</th>\n",
       "      <th>contact</th>\n",
       "      <th>month</th>\n",
       "      <th>day_of_week</th>\n",
       "      <th>...</th>\n",
       "      <th>campaign</th>\n",
       "      <th>pdays</th>\n",
       "      <th>previous</th>\n",
       "      <th>poutcome</th>\n",
       "      <th>emp.var.rate</th>\n",
       "      <th>cons.price.idx</th>\n",
       "      <th>cons.conf.idx</th>\n",
       "      <th>euribor3m</th>\n",
       "      <th>nr.employed</th>\n",
       "      <th>y</th>\n",
       "    </tr>\n",
       "  </thead>\n",
       "  <tbody>\n",
       "  </tbody>\n",
       "</table>\n",
       "<p>0 rows × 21 columns</p>\n",
       "</div>"
      ],
      "text/plain": [
       "Empty DataFrame\n",
       "Columns: [age, job, marital, education, default, housing, loan, contact, month, day_of_week, duration, campaign, pdays, previous, poutcome, emp.var.rate, cons.price.idx, cons.conf.idx, euribor3m, nr.employed, y]\n",
       "Index: []\n",
       "\n",
       "[0 rows x 21 columns]"
      ]
     },
     "execution_count": 121,
     "metadata": {},
     "output_type": "execute_result"
    }
   ],
   "source": [
    "data[(data['pdays']!=999) & (data['poutcome']=='unknown')]"
   ]
  },
  {
   "cell_type": "code",
   "execution_count": 122,
   "metadata": {},
   "outputs": [],
   "source": [
    "#P days = 999, 999 means client was not previously contacted.\n",
    "#there are 0 clients which are not contacted and their poutcome is unknown.\n",
    "#there are 0 clients with poutcome unknown who are being contacted with."
   ]
  },
  {
   "cell_type": "code",
   "execution_count": 123,
   "metadata": {},
   "outputs": [
    {
     "data": {
      "text/plain": [
       "array(['no', 'unknown', 'yes'], dtype=object)"
      ]
     },
     "execution_count": 123,
     "metadata": {},
     "output_type": "execute_result"
    }
   ],
   "source": [
    "data['default'].unique()"
   ]
  },
  {
   "cell_type": "code",
   "execution_count": null,
   "metadata": {},
   "outputs": [],
   "source": []
  },
  {
   "cell_type": "code",
   "execution_count": 124,
   "metadata": {},
   "outputs": [
    {
     "name": "stdout",
     "output_type": "stream",
     "text": [
      "Total Count 32772\n",
      "yes percentage 0.009154155986818015\n",
      "No percentage 79.2658366898572\n",
      "unknown percentage 20.725009154155988\n"
     ]
    },
    {
     "data": {
      "image/png": "[encoded data removed]",
      "text/plain": [
       "<Figure size 432x288 with 1 Axes>"
      ]
     },
     "metadata": {
      "needs_background": "light"
     },
     "output_type": "display_data"
    }
   ],
   "source": [
    "# figuring out default and credit\n",
    "\n",
    "default_yes=data[data['default']=='yes']\n",
    "default_no=data[data['default']=='no']\n",
    "default_unknown=data[data['default']=='unknown']\n",
    "total=data.shape[0]\n",
    "yes=default_yes.count()['y']\n",
    "no=default_no.count()['y']\n",
    "unknown=default_unknown.count()['y']\n",
    "sns.countplot(data['default'])\n",
    "print(\"Total Count\",total)\n",
    "print(\"yes percentage\",(yes/total)*100)\n",
    "print(\"No percentage\",(no/total*100))\n",
    "print(\"unknown percentage\",(unknown/total*100))"
   ]
  },
  {
   "cell_type": "code",
   "execution_count": 125,
   "metadata": {},
   "outputs": [],
   "source": [
    "# no one has or very little amount of clients have default in thier credit.\n",
    "# 79% of clients have non default in thier credit.\n",
    "# nearly 21% of clients credit and default information is unknown."
   ]
  },
  {
   "cell_type": "code",
   "execution_count": 126,
   "metadata": {},
   "outputs": [
    {
     "data": {
      "text/plain": [
       "array(['nonexistent', 'failure', 'success'], dtype=object)"
      ]
     },
     "execution_count": 126,
     "metadata": {},
     "output_type": "execute_result"
    }
   ],
   "source": [
    "data['poutcome'].unique()"
   ]
  },
  {
   "cell_type": "code",
   "execution_count": 127,
   "metadata": {},
   "outputs": [],
   "source": [
    "#Handling Outliers"
   ]
  },
  {
   "cell_type": "code",
   "execution_count": 128,
   "metadata": {},
   "outputs": [
    {
     "name": "stdout",
     "output_type": "stream",
     "text": [
      "admin.           0.250671\n",
      "blue-collar      0.226047\n",
      "technician       0.163981\n",
      "services         0.095234\n",
      "management       0.072043\n",
      "retired          0.041377\n",
      "entrepreneur     0.035854\n",
      "self-employed    0.034114\n",
      "housemaid        0.026211\n",
      "unemployed       0.024594\n",
      "student          0.021665\n",
      "unknown          0.008208\n",
      "Name: job, dtype: float64\n"
     ]
    },
    {
     "data": {
      "image/png": "[encoded data removed]",
      "text/plain": [
       "<Figure size 432x288 with 1 Axes>"
      ]
     },
     "metadata": {
      "needs_background": "light"
     },
     "output_type": "display_data"
    }
   ],
   "source": [
    "print(data.job.value_counts(normalize=True))\n",
    "\n",
    "data.job.value_counts(normalize=True).plot.barh()\n",
    "plt.show()"
   ]
  },
  {
   "cell_type": "code",
   "execution_count": 129,
   "metadata": {},
   "outputs": [
    {
     "name": "stdout",
     "output_type": "stream",
     "text": [
      "university.degree      0.294794\n",
      "high.school            0.230471\n",
      "basic.9y               0.146314\n",
      "professional.course    0.127853\n",
      "basic.4y               0.102252\n",
      "basic.6y               0.055718\n",
      "unknown                0.042109\n",
      "illiterate             0.000488\n",
      "Name: education, dtype: float64\n"
     ]
    },
    {
     "data": {
      "image/png": "[encoded data removed]",
      "text/plain": [
       "<Figure size 432x288 with 1 Axes>"
      ]
     },
     "metadata": {},
     "output_type": "display_data"
    }
   ],
   "source": [
    "print(data.education.value_counts(normalize=True))\n",
    "\n",
    "data.education.value_counts(normalize=True).plot.pie()\n",
    "plt.show()"
   ]
  },
  {
   "cell_type": "code",
   "execution_count": 130,
   "metadata": {},
   "outputs": [
    {
     "data": {
      "text/plain": [
       "array(['no', 'yes', 'unknown'], dtype=object)"
      ]
     },
     "execution_count": 130,
     "metadata": {},
     "output_type": "execute_result"
    }
   ],
   "source": [
    "data['housing'].unique()"
   ]
  },
  {
   "cell_type": "code",
   "execution_count": 131,
   "metadata": {},
   "outputs": [
    {
     "name": "stdout",
     "output_type": "stream",
     "text": [
      "Total counts\n",
      "We have  52.615037226901016  % who have house loan and count is  17243\n",
      "We have  44.99267667521055  % who have dont house loan and count is  14745\n",
      "We have  2.3922860978884417  % of clients whose information is unknown  784\n",
      "\n",
      "\n",
      "Total that have housing loan are 17243\n",
      "Out of the total 11.57571188308299  % have subscribed to Term Deposit Plan\n",
      "Out of the total 88.42428811691701  % have not subscribed to Term Deposit Plan\n",
      "Out of the total 0.0  % of clients whose information is unknown\n",
      "\n",
      "\n",
      "Total number of people that don't housing loan are 14745\n",
      "Out of the total 10.81044421837911  % have subscribed to Term Deposit Plan\n",
      "Out of the total 89.18955578162088  % have not subscribed to Term Deposit Plan\n",
      "Out of the total 0.0  % of clients whose information is unknown\n",
      "\n",
      "\n"
     ]
    },
    {
     "data": {
      "text/plain": [
       "<AxesSubplot:xlabel='housing', ylabel='count'>"
      ]
     },
     "execution_count": 131,
     "metadata": {},
     "output_type": "execute_result"
    },
    {
     "data": {
      "image/png": "[encoded data removed]",
      "text/plain": [
       "<Figure size 432x288 with 1 Axes>"
      ]
     },
     "metadata": {
      "needs_background": "light"
     },
     "output_type": "display_data"
    },
    {
     "data": {
      "image/png": "[encoded data removed]",
      "text/plain": [
       "<Figure size 1440x360 with 1 Axes>"
      ]
     },
     "metadata": {
      "needs_background": "light"
     },
     "output_type": "display_data"
    }
   ],
   "source": [
    "# lets do some analysis on housing column\n",
    "\n",
    "default_yes=data[data['housing']=='yes']\n",
    "default_no=data[data['housing']=='no']\n",
    "default_unknown=data[data['housing']=='unknown']\n",
    "\n",
    "total=data.shape[0]\n",
    "yes=default_yes.count()['y']\n",
    "no=default_no.count()['y']\n",
    "unknown=default_unknown.count()['y']\n",
    "sns.countplot(data['housing'])\n",
    "\n",
    "print(\"Total counts\")\n",
    "print(\"We have \",(yes/total)*100,\" % who have house loan and count is \", yes)\n",
    "print(\"We have \",(no/total)*100,\" % who have dont house loan and count is \",no)\n",
    "print(\"We have \",(unknown/total)*100,\" % of clients whose information is unknown \",unknown)\n",
    "print(\"\\n\")\n",
    "\n",
    "\n",
    "\n",
    "\n",
    "yes=default_yes[default_yes['y']=='yes'].count()['y']\n",
    "no=default_yes[default_yes['y']=='no'].count()['y']\n",
    "unknown=default_yes[default_yes['y']=='unknown'].count()['y']\n",
    "total=default_yes.count()['y']\n",
    "print(\"Total that have housing loan are\",total)\n",
    "print(\"Out of the total\",(yes/total)*100,\" % have subscribed to Term Deposit Plan\")\n",
    "print(\"Out of the total\",(no/total)*100,\" % have not subscribed to Term Deposit Plan\")\n",
    "print(\"Out of the total\",(unknown/total)*100,\" % of clients whose information is unknown\")\n",
    "print(\"\\n\")\n",
    "\n",
    "\n",
    "\n",
    "\n",
    "yes=default_no[default_no['y']=='yes'].count()['y']\n",
    "no=default_no[default_no['y']=='no'].count()['y']\n",
    "unknown=default_no[default_no['y']=='unknown'].count()['y']\n",
    "total=default_no.count()['y']\n",
    "print(\"Total number of people that don't housing loan are\",total)\n",
    "print(\"Out of the total\",(yes/total)*100,\" % have subscribed to Term Deposit Plan\")\n",
    "print(\"Out of the total\",(no/total)*100,\" % have not subscribed to Term Deposit Plan\")\n",
    "print(\"Out of the total\",(unknown/total)*100,\" % of clients whose information is unknown\")\n",
    "print(\"\\n\")\n",
    "\n",
    "\n",
    "\n",
    "\n",
    "plt.figure(figsize=(20,5))\n",
    "sns.countplot(data['housing'],hue=data['y'])"
   ]
  },
  {
   "cell_type": "code",
   "execution_count": 132,
   "metadata": {},
   "outputs": [],
   "source": [
    "# From this analysis we can see that\n",
    "# 1. There are more clients who have housing loan and also have subscribed to term deposit plan\n"
   ]
  },
  {
   "cell_type": "code",
   "execution_count": 133,
   "metadata": {},
   "outputs": [],
   "source": [
    "# Let's analyse monthwise subscriptions"
   ]
  },
  {
   "cell_type": "code",
   "execution_count": 134,
   "metadata": {},
   "outputs": [
    {
     "data": {
      "text/plain": [
       "may    10941\n",
       "jul     5721\n",
       "aug     4869\n",
       "jun     4221\n",
       "nov     3260\n",
       "apr     2137\n",
       "oct      580\n",
       "sep      453\n",
       "mar      444\n",
       "dec      146\n",
       "Name: month, dtype: int64"
      ]
     },
     "execution_count": 134,
     "metadata": {},
     "output_type": "execute_result"
    }
   ],
   "source": [
    "data['month'].value_counts()"
   ]
  },
  {
   "cell_type": "code",
   "execution_count": 135,
   "metadata": {},
   "outputs": [],
   "source": [
    "\n",
    "\n",
    "data.loc[data['month']=='mar','month']=3\n",
    "data.loc[data['month']=='apr','month']=4\n",
    "data.loc[data['month']=='may','month']=5\n",
    "data.loc[data['month']=='jun','month']=6\n",
    "data.loc[data['month']=='jul','month']=7\n",
    "data.loc[data['month']=='aug','month']=8\n",
    "data.loc[data['month']=='sep','month']=9\n",
    "data.loc[data['month']=='oct','month']=10\n",
    "data.loc[data['month']=='nov','month']=11\n",
    "data.loc[data['month']=='dec','month']=12"
   ]
  },
  {
   "cell_type": "code",
   "execution_count": 138,
   "metadata": {},
   "outputs": [
    {
     "name": "stdout",
     "output_type": "stream",
     "text": [
      "[3, 4, 5, 6, 7, 8, 9, 10, 11, 12]\n",
      "[444, 2137, 10941, 4221, 5721, 4869, 453, 580, 3260, 146]\n",
      "[229, 431, 697, 459, 513, 502, 199, 255, 331, 66]\n",
      "[215, 1706, 10244, 3762, 5208, 4367, 254, 325, 2929, 80]\n"
     ]
    }
   ],
   "source": [
    "dict1=dict(list(data.groupby(['month','y'])))\n",
    "#print(dict1)\n",
    "list1=[3,4,5,6,7,8,9,10,11,12]\n",
    "no=[]\n",
    "yes=[]\n",
    "months=[]\n",
    "for i in list1:\n",
    "    months.append(i)\n",
    "    for j in ['no','yes']:\n",
    "        if(j=='no'):\n",
    "            no.append(dict1[i,j].count()['y'])\n",
    "        else:\n",
    "            yes.append(dict1[i,j].count()['y'])\n",
    "\n",
    "total_count_per_month=[]\n",
    "dict2=dict(list(data.groupby(['month'])))\n",
    "for i in list1:\n",
    "    total_count_per_month.append(dict2[i].count()['y'])\n",
    "\n",
    "      \n",
    "print(months)\n",
    "print(total_count_per_month)\n",
    "print(yes)\n",
    "print(no)"
   ]
  },
  {
   "cell_type": "code",
   "execution_count": 139,
   "metadata": {},
   "outputs": [],
   "source": [
    "month_wise=pd.DataFrame()\n",
    "month_wise['Months']=months\n",
    "month_wise['Total ENteries per month']=total_count_per_month\n",
    "month_wise['Count of Subscribed']=yes\n",
    "month_wise['Count of Not Sub']=no\n",
    "month_wise['Subscription Rate']=(month_wise['Count of Subscribed']/month_wise['Total ENteries per month'])*100\n",
    "month_wise['Not Sub Rate']=(month_wise['Count of Not Sub']/month_wise['Total ENteries per month'])*100"
   ]
  },
  {
   "cell_type": "code",
   "execution_count": 140,
   "metadata": {},
   "outputs": [
    {
     "data": {
      "text/html": [
       "<div>\n",
       "<style scoped>\n",
       "    .dataframe tbody tr th:only-of-type {\n",
       "        vertical-align: middle;\n",
       "    }\n",
       "\n",
       "    .dataframe tbody tr th {\n",
       "        vertical-align: top;\n",
       "    }\n",
       "\n",
       "    .dataframe thead th {\n",
       "        text-align: right;\n",
       "    }\n",
       "</style>\n",
       "<table border=\"1\" class=\"dataframe\">\n",
       "  <thead>\n",
       "    <tr style=\"text-align: right;\">\n",
       "      <th></th>\n",
       "      <th>Months</th>\n",
       "      <th>Total ENteries per month</th>\n",
       "      <th>Count of Subscribed</th>\n",
       "      <th>Count of Not Sub</th>\n",
       "      <th>Subscription Rate</th>\n",
       "      <th>Not Sub Rate</th>\n",
       "    </tr>\n",
       "  </thead>\n",
       "  <tbody>\n",
       "    <tr>\n",
       "      <th>0</th>\n",
       "      <td>3</td>\n",
       "      <td>444</td>\n",
       "      <td>229</td>\n",
       "      <td>215</td>\n",
       "      <td>51.576577</td>\n",
       "      <td>48.423423</td>\n",
       "    </tr>\n",
       "    <tr>\n",
       "      <th>9</th>\n",
       "      <td>12</td>\n",
       "      <td>146</td>\n",
       "      <td>66</td>\n",
       "      <td>80</td>\n",
       "      <td>45.205479</td>\n",
       "      <td>54.794521</td>\n",
       "    </tr>\n",
       "    <tr>\n",
       "      <th>7</th>\n",
       "      <td>10</td>\n",
       "      <td>580</td>\n",
       "      <td>255</td>\n",
       "      <td>325</td>\n",
       "      <td>43.965517</td>\n",
       "      <td>56.034483</td>\n",
       "    </tr>\n",
       "    <tr>\n",
       "      <th>6</th>\n",
       "      <td>9</td>\n",
       "      <td>453</td>\n",
       "      <td>199</td>\n",
       "      <td>254</td>\n",
       "      <td>43.929360</td>\n",
       "      <td>56.070640</td>\n",
       "    </tr>\n",
       "    <tr>\n",
       "      <th>1</th>\n",
       "      <td>4</td>\n",
       "      <td>2137</td>\n",
       "      <td>431</td>\n",
       "      <td>1706</td>\n",
       "      <td>20.168460</td>\n",
       "      <td>79.831540</td>\n",
       "    </tr>\n",
       "    <tr>\n",
       "      <th>3</th>\n",
       "      <td>6</td>\n",
       "      <td>4221</td>\n",
       "      <td>459</td>\n",
       "      <td>3762</td>\n",
       "      <td>10.874200</td>\n",
       "      <td>89.125800</td>\n",
       "    </tr>\n",
       "    <tr>\n",
       "      <th>5</th>\n",
       "      <td>8</td>\n",
       "      <td>4869</td>\n",
       "      <td>502</td>\n",
       "      <td>4367</td>\n",
       "      <td>10.310125</td>\n",
       "      <td>89.689875</td>\n",
       "    </tr>\n",
       "    <tr>\n",
       "      <th>8</th>\n",
       "      <td>11</td>\n",
       "      <td>3260</td>\n",
       "      <td>331</td>\n",
       "      <td>2929</td>\n",
       "      <td>10.153374</td>\n",
       "      <td>89.846626</td>\n",
       "    </tr>\n",
       "    <tr>\n",
       "      <th>4</th>\n",
       "      <td>7</td>\n",
       "      <td>5721</td>\n",
       "      <td>513</td>\n",
       "      <td>5208</td>\n",
       "      <td>8.966964</td>\n",
       "      <td>91.033036</td>\n",
       "    </tr>\n",
       "    <tr>\n",
       "      <th>2</th>\n",
       "      <td>5</td>\n",
       "      <td>10941</td>\n",
       "      <td>697</td>\n",
       "      <td>10244</td>\n",
       "      <td>6.370533</td>\n",
       "      <td>93.629467</td>\n",
       "    </tr>\n",
       "  </tbody>\n",
       "</table>\n",
       "</div>"
      ],
      "text/plain": [
       "   Months  Total ENteries per month  Count of Subscribed  Count of Not Sub  \\\n",
       "0       3                       444                  229               215   \n",
       "9      12                       146                   66                80   \n",
       "7      10                       580                  255               325   \n",
       "6       9                       453                  199               254   \n",
       "1       4                      2137                  431              1706   \n",
       "3       6                      4221                  459              3762   \n",
       "5       8                      4869                  502              4367   \n",
       "8      11                      3260                  331              2929   \n",
       "4       7                      5721                  513              5208   \n",
       "2       5                     10941                  697             10244   \n",
       "\n",
       "   Subscription Rate  Not Sub Rate  \n",
       "0          51.576577     48.423423  \n",
       "9          45.205479     54.794521  \n",
       "7          43.965517     56.034483  \n",
       "6          43.929360     56.070640  \n",
       "1          20.168460     79.831540  \n",
       "3          10.874200     89.125800  \n",
       "5          10.310125     89.689875  \n",
       "8          10.153374     89.846626  \n",
       "4           8.966964     91.033036  \n",
       "2           6.370533     93.629467  "
      ]
     },
     "execution_count": 140,
     "metadata": {},
     "output_type": "execute_result"
    }
   ],
   "source": [
    "month_wise=month_wise.sort_values(\"Subscription Rate\",ascending=False)\n",
    "month_wise"
   ]
  },
  {
   "cell_type": "code",
   "execution_count": 145,
   "metadata": {},
   "outputs": [
    {
     "data": {
      "text/plain": [
       "<matplotlib.legend.Legend at 0x7fedf8975ca0>"
      ]
     },
     "execution_count": 145,
     "metadata": {},
     "output_type": "execute_result"
    },
    {
     "data": {
      "image/png": "[encoded data removed]",
      "text/plain": [
       "<Figure size 1440x360 with 1 Axes>"
      ]
     },
     "metadata": {
      "needs_background": "light"
     },
     "output_type": "display_data"
    }
   ],
   "source": [
    "plt.figure(figsize=(20,5))\n",
    "labels=['March','April','May','June','July','Aug','Sep','Oct','Nov','Dec']\n",
    "position=np.arange(0,10,1)\n",
    "sns.pointplot(month_wise['Months'],month_wise['Subscription Rate'],color='g')\n",
    "plt.xticks(position,labels)\n",
    "plt.legend(['Subscription %'])\n"
   ]
  },
  {
   "cell_type": "code",
   "execution_count": 147,
   "metadata": {},
   "outputs": [
    {
     "data": {
      "text/plain": [
       "<matplotlib.legend.Legend at 0x7fee68337160>"
      ]
     },
     "execution_count": 147,
     "metadata": {},
     "output_type": "execute_result"
    },
    {
     "data": {
      "image/png": "[encoded data removed]",
      "text/plain": [
       "<Figure size 1440x360 with 1 Axes>"
      ]
     },
     "metadata": {
      "needs_background": "light"
     },
     "output_type": "display_data"
    }
   ],
   "source": [
    "plt.figure(figsize=(20,5))\n",
    "labels=['Jan','Feb','March','April','May','June','July','Aug','Sep','Oct','Nov','Dec']\n",
    "position=np.arange(0,12,1)\n",
    "sns.pointplot(month_wise['Months'],month_wise['Not Sub Rate'],color='r')\n",
    "plt.xticks(position,labels)\n",
    "plt.legend(['Not subscribed %'])"
   ]
  },
  {
   "cell_type": "code",
   "execution_count": 149,
   "metadata": {},
   "outputs": [
    {
     "data": {
      "text/plain": [
       "<matplotlib.legend.Legend at 0x7fee083b7a60>"
      ]
     },
     "execution_count": 149,
     "metadata": {},
     "output_type": "execute_result"
    },
    {
     "data": {
      "image/png": "[encoded data removed]",
      "text/plain": [
       "<Figure size 1440x360 with 1 Axes>"
      ]
     },
     "metadata": {
      "needs_background": "light"
     },
     "output_type": "display_data"
    }
   ],
   "source": [
    "plt.figure(figsize=(20,5))\n",
    "labels=['Jan','Feb','March','April','May','June','July','Aug','Sep','Oct','Nov','Dec']\n",
    "position=np.arange(0,12,1)\n",
    "sns.pointplot(month_wise['Months'],month_wise['Total ENteries per month'],color='r')\n",
    "plt.xticks(position,labels)\n",
    "plt.legend(['Total count- contacted per month'])"
   ]
  },
  {
   "cell_type": "code",
   "execution_count": 150,
   "metadata": {},
   "outputs": [],
   "source": [
    "month_final=month_wise[['Months','Subscription Rate','Not Sub Rate']]\n",
    "month_final=month_final.set_index('Months')"
   ]
  },
  {
   "cell_type": "code",
   "execution_count": 151,
   "metadata": {},
   "outputs": [
    {
     "data": {
      "text/plain": [
       "<AxesSubplot:xlabel='Months'>"
      ]
     },
     "execution_count": 151,
     "metadata": {},
     "output_type": "execute_result"
    },
    {
     "data": {
      "image/png": "[encoded data removed]",
      "text/plain": [
       "<Figure size 1080x360 with 1 Axes>"
      ]
     },
     "metadata": {
      "needs_background": "light"
     },
     "output_type": "display_data"
    }
   ],
   "source": [
    "month_final.plot(kind='bar',figsize=(15,5))"
   ]
  },
  {
   "cell_type": "code",
   "execution_count": null,
   "metadata": {},
   "outputs": [],
   "source": []
  }
 ],
 "metadata": {
  "kernelspec": {
   "display_name": "Python 3",
   "language": "python",
   "name": "python3"
  },
  "language_info": {
   "codemirror_mode": {
    "name": "ipython",
    "version": 3
   },
   "file_extension": ".py",
   "mimetype": "text/x-python",
   "name": "python",
   "nbconvert_exporter": "python",
   "pygments_lexer": "ipython3",
   "version": "3.8.5"
  }
 },
 "nbformat": 4,
 "nbformat_minor": 4
}
